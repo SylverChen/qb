{
 "cells": [
  {
   "cell_type": "code",
   "execution_count": 8,
   "metadata": {
    "autoscroll": "json-false",
    "collapsed": false,
    "ein.tags": [
     "worksheet-0"
    ],
    "slideshow": {
     "slide_type": "-"
    }
   },
   "outputs": [],
   "source": [
    "import mmap\n",
    "f = open('./log/postgresql-2017-07-19_170344.log', 'r')\n",
    "m = mmap.mmap(f.fileno(), 0, access=mmap.ACCESS_READ)"
   ]
  },
  {
   "cell_type": "code",
   "execution_count": 55,
   "metadata": {
    "autoscroll": "json-false",
    "collapsed": false,
    "ein.tags": [
     "worksheet-0"
    ],
    "slideshow": {
     "slide_type": "-"
    }
   },
   "outputs": [],
   "source": [
    "m.seek(0)"
   ]
  },
  {
   "cell_type": "code",
   "execution_count": 56,
   "metadata": {
    "autoscroll": "json-false",
    "collapsed": false,
    "ein.tags": [
     "worksheet-0"
    ],
    "slideshow": {
     "slide_type": "-"
    }
   },
   "outputs": [
    {
     "name": "stdout",
     "output_type": "stream",
     "text": [
      "58\n",
      "93\n",
      "52\n",
      "52\n",
      "49\n",
      "56\n",
      "now the position is: 38\n",
      "\n",
      "process_id is 8144\n",
      "\n",
      "58\n",
      "93\n",
      "93\n",
      "110\n",
      "119\n",
      "111\n",
      "110\n",
      "107\n",
      "110\n",
      "117\n",
      "now the position is: 27\n",
      "\n",
      "application name is unknown\n",
      "\n",
      "58\n",
      "91\n",
      "50\n",
      "now the position is: 58\n",
      "\n",
      "session id is 2\n",
      "\n",
      "now the position is: 58\n",
      "\n",
      "now the position is: 58\n",
      "\n",
      "duration is 1715306.084\n",
      "\n"
     ]
    }
   ],
   "source": [
    "ind = m.find(b':[postgres]:')\n",
    "\n",
    "m.seek(ind)\n",
    "while (m[m.tell(): m.tell()+1] != b'['):\n",
    "       print(m[m.tell()])\n",
    "       m.seek(-1, 1)\n",
    "\n",
    "ind_process = m.tell()\n",
    "process_id = m[ind_process+1:ind-1].decode()\n",
    "print('now the position is: %d\\n' % m.tell())\n",
    "print('process_id is %s\\n' % process_id)\n",
    "\n",
    "m.seek(-1, 1)\n",
    "while (m[m.tell(): m.tell()+1] != b'['):\n",
    "       print(m[m.tell()])\n",
    "       m.seek(-1, 1)\n",
    "\n",
    "ind_app = m.tell()\n",
    "app_name = m[ind_app+1:ind_process-3].decode()\n",
    "print('now the position is: %d\\n' % m.tell())\n",
    "print('application name is %s\\n' % app_name)\n",
    "\n",
    "ind = ind + 11\n",
    "m.seek(ind)\n",
    "while (m[m.tell(): m.tell()+1] != b']'):\n",
    "       print(m[m.tell()])\n",
    "       m.seek(1, 1)\n",
    "\n",
    "\n",
    "ind_session = m.tell()\n",
    "session_id = m[ind+2: ind_session].decode()\n",
    "print('now the position is: %d\\n' % m.tell())\n",
    "print('session id is %s\\n' % session_id)\n",
    "\n",
    "print('now the position is: %d\\n' % m.tell())\n",
    "ind = m.find(b'duration') + 10\n",
    "ind_time = m.find(b'ms')\n",
    "duration = m[ind:ind_time-1].decode()\n",
    "print('now the position is: %d\\n' % m.tell())\n",
    "print('duration is %s\\n' % duration)\n",
    "\n"
   ]
  },
  {
   "cell_type": "code",
   "execution_count": 57,
   "metadata": {
    "autoscroll": "json-false",
    "collapsed": false,
    "ein.tags": [
     "worksheet-0"
    ],
    "slideshow": {
     "slide_type": "slide"
    }
   },
   "outputs": [],
   "source": [
    "res_name = process_id + '_' + session_id\n",
    "with open('./res/'+res_name, 'wt') as resf:\n",
    "       resf.write('{\\n')\n",
    "       resf.write('\"'+'Application Name'+'\": ' +'\"'+app_name+'\",\\n')\n",
    "       resf.write('\"'+'Process Id'+'\": ' +'\"'+process_id+'\",\\n')\n",
    "       resf.write('\"'+'Session Id'+'\": ' +'\"'+session_id+'\",\\n')\n",
    "       resf.write('\"'+'Duration'+'\": ' +'\"'+duration+'\",\\n')\n",
    "\n",
    "       m.readline()\n",
    "       m.readline()\n",
    "\n",
    "       while True:\n",
    "              line = m.readline().decode()\n",
    "              ind = line.find('CST]:[[')\n",
    "              if (ind < 0):\n",
    "                     resf.write(line.decode())\n",
    "              else:\n",
    "                     continue\n",
    "                     \n",
    "                     \n",
    "              \n",
    "\n",
    "       \n",
    "       \n",
    "       "
   ]
  },
  {
   "cell_type": "code",
   "execution_count": 0,
   "metadata": {
    "autoscroll": "json-false",
    "collapsed": false,
    "ein.tags": [
     "worksheet-0"
    ],
    "slideshow": {
     "slide_type": "-"
    }
   },
   "outputs": [],
   "source": []
  },
  {
   "cell_type": "code",
   "execution_count": 2,
   "metadata": {
    "autoscroll": "json-false",
    "collapsed": false,
    "ein.tags": [
     "worksheet-0"
    ],
    "slideshow": {
     "slide_type": "-"
    }
   },
   "outputs": [],
   "source": [
    "from pprint import pprint\n",
    "from collections import defaultdict\n",
    "import json\n",
    "import flatdict\n",
    "RAW_FILE = 'res/8144_2'\n",
    "                                     \n",
    "                                     "
   ]
  },
  {
   "cell_type": "code",
   "execution_count": 2,
   "metadata": {
    "autoscroll": "json-false",
    "collapsed": false,
    "ein.tags": [
     "worksheet-0"
    ],
    "slideshow": {
     "slide_type": "-"
    }
   },
   "outputs": [],
   "source": [
    "    with open(RAW_FILE, 'r') as f:\n",
    "        data = json.load(f)\n"
   ]
  },
  {
   "cell_type": "code",
   "execution_count": 7,
   "metadata": {
    "autoscroll": "json-false",
    "collapsed": false,
    "ein.tags": [
     "worksheet-0"
    ],
    "slideshow": {
     "slide_type": "-"
    }
   },
   "outputs": [],
   "source": [
    "a = json.loads('[111111111111111111111111111111111111111111111]')"
   ]
  },
  {
   "cell_type": "code",
   "execution_count": 10,
   "metadata": {
    "autoscroll": "json-false",
    "collapsed": false,
    "ein.tags": [
     "worksheet-0"
    ],
    "slideshow": {
     "slide_type": "-"
    }
   },
   "outputs": [
    {
     "name": "stdout",
     "output_type": "stream",
     "text": [
      "111111111111111111111111111111111111111111112\n"
     ]
    }
   ],
   "source": [
    "print(a[0]+1)"
   ]
  },
  {
   "cell_type": "code",
   "execution_count": 5,
   "metadata": {
    "autoscroll": "json-false",
    "collapsed": false,
    "ein.tags": [
     "worksheet-0"
    ],
    "slideshow": {
     "slide_type": "-"
    }
   },
   "outputs": [],
   "source": [
    "with open('./res/8144_3', 'r') as f:\n",
    "       data = json.load(f)\n",
    "                                     "
   ]
  },
  {
   "cell_type": "code",
   "execution_count": 8,
   "metadata": {
    "autoscroll": "json-false",
    "collapsed": false,
    "ein.tags": [
     "worksheet-0"
    ],
    "slideshow": {
     "slide_type": "-"
    }
   },
   "outputs": [
    {
     "name": "stdout",
     "output_type": "stream",
     "text": [
      "{'Run Time': '1715309.398'}\n"
     ]
    }
   ],
   "source": [
    "print(data)"
   ]
  },
  {
   "cell_type": "code",
   "execution_count": 9,
   "metadata": {
    "autoscroll": "json-false",
    "collapsed": false,
    "ein.tags": [
     "worksheet-0"
    ],
    "slideshow": {
     "slide_type": "-"
    }
   },
   "outputs": [
    {
     "data": {
      "text/plain": [
       "'1715309.398'"
      ]
     },
     "execution_count": 9,
     "metadata": {},
     "output_type": "execute_result"
    }
   ],
   "source": [
    "data['Run Time']"
   ]
  },
  {
   "cell_type": "code",
   "execution_count": 1,
   "metadata": {
    "autoscroll": "json-false",
    "collapsed": false,
    "ein.tags": [
     "worksheet-0"
    ],
    "slideshow": {
     "slide_type": "-"
    }
   },
   "outputs": [],
   "source": [
    "import re\n",
    "text = '[2017-07-20 18:32:04 CST]:[psql]:[3243]:[sylver]:[1] LOG:  duration: 1724227.857 ms  plan:'\n",
    "\n",
    "                                     "
   ]
  },
  {
   "cell_type": "code",
   "execution_count": 0,
   "metadata": {
    "autoscroll": "json-false",
    "collapsed": false,
    "ein.tags": [
     "worksheet-0"
    ],
    "slideshow": {
     "slide_type": "-"
    }
   },
   "outputs": [],
   "source": [
    "match.group('app_name')\n",
    "match.group('process_id')\n",
    "match.group('user_name')\n",
    "match.group('session_line')\n",
    "match.group('duration')\n",
    "       (?P<app_name>(\\w)+)\n",
    "       ]:[\n",
    "       (?P<process_id>(\\d)+)\n",
    "       ]:[\n",
    "       (?P<user_name>(\\w)+)\n",
    "       ]:[\n",
    "       (?P<session_line>(\\d)+)\n",
    "       .*(?=duration\\s*)\n",
    "       (?<duration>(\\d)+(\\.(\\d)+)?)\n"
   ]
  },
  {
   "cell_type": "code",
   "execution_count": 2,
   "metadata": {
    "autoscroll": "json-false",
    "collapsed": false,
    "ein.tags": [
     "worksheet-0"
    ],
    "slideshow": {
     "slide_type": "-"
    }
   },
   "outputs": [
    {
     "name": "stdout",
     "output_type": "stream",
     "text": [
      "Found '2017-07-20 18:32:04 CST]:[psql]:[3243]:[sylver]:[1] LOG:  duration: 1724227.857' at 1:80\n"
     ]
    }
   ],
   "source": [
    "import re\n",
    "text = '[2017-07-20 18:32:04 CST]:[psql]:[3243]:[sylver]:[1] LOG:  duration: 1724227.857 ms  plan:'\n",
    "header = re.compile(\n",
    "       r'''\n",
    "       (?P<timestamp>(\\d){4}\\-(\\d){2}\\-(\\d){2}\\s(\\d){2}:(\\d){2}:(\\d){2})\n",
    "       \\s*CST\\]:\\[\n",
    "       (?P<app_name>(\\w)+)\n",
    "       \\]:\\[\n",
    "       (?P<process_id>(\\d)+)\n",
    "       \\]:\\[\n",
    "       (?P<user_name>(\\w)+)\n",
    "       \\]:\\[\n",
    "       (?P<session_line>(\\d)+)\n",
    "       .*duration:\\s*\n",
    "       # (?P<duration>.*)\n",
    "       (?P<duration>(\\d)+(\\.(\\d)+)?)\n",
    "       ''',\n",
    "       re.VERBOSE)\n",
    "# match = header.search(text)\n",
    "for match in re.finditer(header, text):\n",
    "       s = match.start()\n",
    "       e = match.end()\n",
    "       print('Found {!r} at {:d}:{:d}'.format(\n",
    "              text[s:e], s, e))\n",
    "        \n",
    "\n",
    "# print('{:<30} {}'.format(\n",
    "#        text, 'Matches' if match else 'No match'))"
   ]
  },
  {
   "cell_type": "code",
   "execution_count": 54,
   "metadata": {
    "autoscroll": "json-false",
    "collapsed": false,
    "ein.tags": [
     "worksheet-0"
    ],
    "slideshow": {
     "slide_type": "-"
    }
   },
   "outputs": [
    {
     "data": {
      "text/plain": [
       "['carefully', 'quickly']"
      ]
     },
     "execution_count": 54,
     "metadata": {},
     "output_type": "execute_result"
    }
   ],
   "source": [
    "text = \"He was carefully disguised but captured quickly by police.\"\n",
    "re.findall(r\"\\w+ly\", text)\n"
   ]
  },
  {
   "cell_type": "code",
   "execution_count": 49,
   "metadata": {
    "autoscroll": "json-false",
    "collapsed": false,
    "ein.tags": [
     "worksheet-0"
    ],
    "slideshow": {
     "slide_type": "-"
    }
   },
   "outputs": [
    {
     "name": "stdout",
     "output_type": "stream",
     "text": [
      "b'2017-07-20 18:32:04'\n",
      "b'psql'\n",
      "b'3243'\n",
      "b'sylver'\n",
      "b'1'\n",
      "<class 'bytes'>\n",
      "-----parsing b'2017-07-20 18:32:04 CST]:[psql]:[3243]:[sylver]:[1] LOG:  duration: 1724227.857' now-----\n",
      "\n"
     ]
    }
   ],
   "source": [
    "# if match:\n",
    "print(match.group('timestamp'))\n",
    "print(match.group('app_name'))\n",
    "print(match.group('process_id'))\n",
    "print(match.group('user_name'))\n",
    "print(match.group('session_line'))\n",
    "print(type(match.group('duration')))\n",
    "print('-----parsing %s now-----\\n' % match.group(0))\n",
    "\n"
   ]
  },
  {
   "cell_type": "code",
   "execution_count": 1,
   "metadata": {
    "autoscroll": "json-false",
    "collapsed": false,
    "ein.tags": [
     "worksheet-0"
    ],
    "slideshow": {
     "slide_type": "-"
    }
   },
   "outputs": [],
   "source": [
    "import psutil"
   ]
  },
  {
   "cell_type": "code",
   "execution_count": 9,
   "metadata": {
    "autoscroll": "json-false",
    "collapsed": false,
    "ein.tags": [
     "worksheet-0"
    ],
    "slideshow": {
     "slide_type": "-"
    }
   },
   "outputs": [
    {
     "name": "stdout",
     "output_type": "stream",
     "text": [
      "[2.0, 1.0, 1.0, 0.0, 1.0, 0.0, 1.0, 0.0]\n"
     ]
    },
    {
     "name": "stdout",
     "output_type": "stream",
     "text": [
      "[1.0, 2.0, 0.0, 0.0, 0.0, 0.0, 0.0, 0.0]\n"
     ]
    },
    {
     "name": "stdout",
     "output_type": "stream",
     "text": [
      "[1.0, 0.0, 0.0, 0.0, 0.0, 0.0, 1.0, 0.0]\n"
     ]
    }
   ],
   "source": [
    "for x in range(3):\n",
    "       print(psutil.cpu_percent(interval=1, percpu=True))"
   ]
  },
  {
   "cell_type": "code",
   "execution_count": 10,
   "metadata": {
    "autoscroll": "json-false",
    "collapsed": false,
    "ein.tags": [
     "worksheet-0"
    ],
    "slideshow": {
     "slide_type": "-"
    }
   },
   "outputs": [
    {
     "data": {
      "text/plain": [
       "scputimes(user=3486.96, nice=3.3, system=547.81, idle=400047.32, iowait=1093.53, irq=0.0, softirq=26.82, steal=0.0, guest=0.0, guest_nice=0.0)"
      ]
     },
     "execution_count": 10,
     "metadata": {},
     "output_type": "execute_result"
    }
   ],
   "source": [
    "psutil.cpu_times()"
   ]
  },
  {
   "cell_type": "code",
   "execution_count": 19,
   "metadata": {
    "autoscroll": "json-false",
    "collapsed": false,
    "ein.tags": [
     "worksheet-0"
    ],
    "slideshow": {
     "slide_type": "-"
    }
   },
   "outputs": [],
   "source": [
    "a = psutil.cpu_times()"
   ]
  },
  {
   "cell_type": "code",
   "execution_count": 25,
   "metadata": {
    "autoscroll": "json-false",
    "collapsed": false,
    "ein.tags": [
     "worksheet-0"
    ],
    "slideshow": {
     "slide_type": "-"
    }
   },
   "outputs": [
    {
     "name": "stdout",
     "output_type": "stream",
     "text": [
      "410271.72\n"
     ]
    }
   ],
   "source": [
    "_sum = 0\n",
    "for i in range(len(a)):\n",
    "              _sum += a[i]\n",
    "print(_sum)\n",
    "              \n",
    "    \n",
    "       "
   ]
  },
  {
   "cell_type": "code",
   "execution_count": 0,
   "metadata": {
    "autoscroll": "json-false",
    "collapsed": false,
    "ein.tags": [
     "worksheet-0"
    ],
    "slideshow": {
     "slide_type": "-"
    }
   },
   "outputs": [],
   "source": [
    "import psutil"
   ]
  },
  {
   "cell_type": "code",
   "execution_count": 7,
   "metadata": {
    "autoscroll": "json-false",
    "collapsed": false,
    "ein.tags": [
     "worksheet-0"
    ],
    "slideshow": {
     "slide_type": "-"
    }
   },
   "outputs": [
    {
     "name": "stdout",
     "output_type": "stream",
     "text": [
      "psutil.cpu_percent is: 0\n",
      "\n",
      "<class 'psutil._pslinux.scputimes'>\n"
     ]
    }
   ],
   "source": [
    "a = psutil.cpu_percent()\n",
    "print('psutil.cpu_percent is: %d\\n' % a)\n",
    "b = psutil.cpu_times_percent()\n",
    "print(type(b))\n",
    "# print('psutil.cpu_times_percent is: %d\\n' % b)"
   ]
  },
  {
   "cell_type": "code",
   "execution_count": 14,
   "metadata": {
    "autoscroll": "json-false",
    "collapsed": false,
    "ein.tags": [
     "worksheet-0"
    ],
    "slideshow": {
     "slide_type": "-"
    }
   },
   "outputs": [
    {
     "name": "stdout",
     "output_type": "stream",
     "text": [
      "scputimes(user=210.08, nice=2.86, system=51.03, idle=9388.38, iowait=341.54, irq=0.0, softirq=1.26, steal=0.0, guest=0.0, guest_nice=0.0)\n",
      "9995.15\n"
     ]
    }
   ],
   "source": [
    "import psutil\n",
    "a = psutil.cpu_times()\n",
    "print(a)\n",
    "_sum = 0\n",
    "for i in range(len(a)):\n",
    "              _sum += a[i]\n",
    "print(_sum)\n"
   ]
  },
  {
   "cell_type": "code",
   "execution_count": 26,
   "metadata": {
    "autoscroll": "json-false",
    "collapsed": false,
    "ein.tags": [
     "worksheet-0"
    ],
    "slideshow": {
     "slide_type": "-"
    }
   },
   "outputs": [
    {
     "name": "stdout",
     "output_type": "stream",
     "text": [
      "0.2\n",
      "[0.5, 0.4, 0.2, 0.2, 0.0, 0.1, 0.3, 0.1]\n"
     ]
    }
   ],
   "source": [
    "print(psutil.cpu_percent())\n",
    "print(psutil.cpu_percent(percpu=True))\n",
    "              "
   ]
  },
  {
   "cell_type": "code",
   "execution_count": 19,
   "metadata": {
    "autoscroll": "json-false",
    "collapsed": false,
    "ein.tags": [
     "worksheet-0"
    ],
    "slideshow": {
     "slide_type": "-"
    }
   },
   "outputs": [],
   "source": []
  },
  {
   "cell_type": "code",
   "execution_count": 21,
   "metadata": {
    "autoscroll": "json-false",
    "collapsed": false,
    "ein.tags": [
     "worksheet-0"
    ],
    "slideshow": {
     "slide_type": "-"
    }
   },
   "outputs": [],
   "source": [
    "a = pinfo.as_dict(attrs=['pid', 'username', 'memory_info', 'cpu_percent', 'name'])"
   ]
  },
  {
   "cell_type": "code",
   "execution_count": 22,
   "metadata": {
    "autoscroll": "json-false",
    "collapsed": false,
    "ein.tags": [
     "worksheet-0"
    ],
    "slideshow": {
     "slide_type": "-"
    }
   },
   "outputs": [
    {
     "data": {
      "text/plain": [
       "{'cpu_percent': 0.0,\n 'memory_info': pmem(rss=0, vms=0, shared=0, text=0, lib=0, data=0, dirty=0),\n 'name': 'ksoftirqd/0',\n 'pid': 3,\n 'username': 'root'}"
      ]
     },
     "execution_count": 22,
     "metadata": {},
     "output_type": "execute_result"
    }
   ],
   "source": [
    "a"
   ]
  },
  {
   "cell_type": "code",
   "execution_count": 12,
   "metadata": {
    "autoscroll": "json-false",
    "collapsed": false,
    "ein.tags": [
     "worksheet-0"
    ],
    "slideshow": {
     "slide_type": "-"
    }
   },
   "outputs": [
    {
     "data": {
      "text/plain": [
       "svmem(total=8229171200, available=4855525376, percent=41.0, used=1574871040, free=2372911104, active=2580639744, inactive=2837319680, buffers=410722304, cached=3870666752, shared=1486716928)"
      ]
     },
     "execution_count": 12,
     "metadata": {},
     "output_type": "execute_result"
    }
   ],
   "source": [
    "       mem = psutil.virtual_memory()\n",
    "       mem"
   ]
  },
  {
   "cell_type": "code",
   "execution_count": 16,
   "metadata": {
    "autoscroll": "json-false",
    "collapsed": false,
    "ein.tags": [
     "worksheet-0"
    ],
    "slideshow": {
     "slide_type": "-"
    }
   },
   "outputs": [
    {
     "data": {
      "text/plain": [
       "1500594563.0"
      ]
     },
     "execution_count": 16,
     "metadata": {},
     "output_type": "execute_result"
    }
   ],
   "source": [
    "import datetime\n",
    "datetime.datetime.fromtimestamp(psutil.boot_time()).strftime(\"%Y-%m-%d %H:%M:%S\")\n",
    "psutil.boot_time()"
   ]
  },
  {
   "cell_type": "code",
   "execution_count": 28,
   "metadata": {
    "autoscroll": "json-false",
    "collapsed": false,
    "ein.tags": [
     "worksheet-0"
    ],
    "slideshow": {
     "slide_type": "-"
    }
   },
   "outputs": [
    {
     "name": "stdout",
     "output_type": "stream",
     "text": [
      "['type_78', 'type_81', 'type_16', 'type_87', 'type_43', 'type_39']\n"
     ]
    }
   ],
   "source": [
    "import os\n",
    "DIR_NAME = '/home/sylver/Projects/env/queryperformance20170717/v2.4.0/query/'\n",
    "types = [name for name in os.listdir(DIR_NAME)\n",
    "         if (os.path.isdir(os.path.join(DIR_NAME, name))\n",
    "             and names.tartswith('type_'))]\n",
    "print(types)"
   ]
  },
  {
   "cell_type": "code",
   "execution_count": 30,
   "metadata": {
    "autoscroll": "json-false",
    "collapsed": false,
    "ein.tags": [
     "worksheet-0"
    ],
    "slideshow": {
     "slide_type": "-"
    }
   },
   "outputs": [
    {
     "name": "stdout",
     "output_type": "stream",
     "text": [
      "['query_4.sql', 'query_34.sql', 'query_37.sql', 'query_11.sql', 'query_10.sql', 'query_1.sql', 'query_24.sql', 'query_38.sql', 'query_36.sql', 'query_14.sql', 'query_25.sql', 'query_16.sql', 'query_15.sql', 'query_32.sql', 'query_31.sql', 'query_12.sql', 'query_2.sql', 'query_28.sql', 'query_13.sql', 'query_19.sql', 'query_9.sql', 'query_27.sql', 'query_5.sql', 'query_30.sql', 'query_18.sql', 'query_8.sql', 'query_0.sql', 'query_33.sql', 'query_26.sql', 'query_3.sql', 'query_23.sql', 'query_39.sql', 'query_35.sql', 'query_21.sql', 'query_22.sql', 'query_17.sql', 'query_7.sql', 'query_29.sql', 'query_6.sql', 'query_20.sql']\n"
     ]
    }
   ],
   "source": [
    "scripts = [name for name in os.listdir(DIR_NAME+types[0])]\n",
    "print(scripts)"
   ]
  },
  {
   "cell_type": "code",
   "execution_count": 1,
   "metadata": {
    "autoscroll": "json-false",
    "collapsed": false,
    "ein.tags": [
     "worksheet-0"
    ],
    "slideshow": {
     "slide_type": "-"
    }
   },
   "outputs": [
    {
     "name": "stdout",
     "output_type": "stream",
     "text": [
      "8\n"
     ]
    }
   ],
   "source": [
    "import multiprocessing\n",
    "pool_size = multiprocessing.cpu_count()\n",
    "print(pool_size)"
   ]
  },
  {
   "cell_type": "code",
   "execution_count": 8,
   "metadata": {
    "autoscroll": "json-false",
    "collapsed": false,
    "ein.tags": [
     "worksheet-0"
    ],
    "slideshow": {
     "slide_type": "-"
    }
   },
   "outputs": [],
   "source": [
    "import logging\n",
    "logger = logging.getLogger('__main__')\n",
    "logger.setLevel(logging.DEBUG)\n",
    "handler = logging.FileHandler('logging')\n",
    "handler.setLevel(logging.DEBUG)\n",
    "logger.addHandler(handler)"
   ]
  },
  {
   "cell_type": "code",
   "execution_count": 10,
   "metadata": {
    "autoscroll": "json-false",
    "collapsed": false,
    "ein.tags": [
     "worksheet-0"
    ],
    "slideshow": {
     "slide_type": "-"
    }
   },
   "outputs": [],
   "source": [
    "util = psutil.cpu_times_percent()\n",
    "logger.info(util)"
   ]
  },
  {
   "cell_type": "code",
   "execution_count": 0,
   "metadata": {
    "autoscroll": "json-false",
    "collapsed": false,
    "ein.tags": [
     "worksheet-0"
    ],
    "slideshow": {
     "slide_type": "-"
    }
   },
   "outputs": [],
   "source": [
    "import resource\n",
    "RESOURCES = [\n",
    "    ('ru_utime', 'User time'),\n",
    "    ('ru_stime', 'System time'),\n",
    "    ('ru_minflt', 'Page faults not requiring I/O'),\n",
    "    ('ru_majflt', 'Page faults requiring I/O'),\n",
    "    ('ru_inblock', 'Block inputs'),\n",
    "    ('ru_oublock', 'Block outputs'),\n",
    "]"
   ]
  },
  {
   "cell_type": "code",
   "execution_count": 15,
   "metadata": {
    "autoscroll": "json-false",
    "collapsed": false,
    "ein.tags": [
     "worksheet-0"
    ],
    "slideshow": {
     "slide_type": "-"
    }
   },
   "outputs": [],
   "source": [
    "usage = resource.getrusage(resource.RUSAGE_SELF)\n",
    "\n",
    "for name, desc in RESOURCES:\n",
    "    logger.info('{:<25} ({:<10}) = {}'.format(\n",
    "           desc, name, getattr(usage, name)))"
   ]
  },
  {
   "cell_type": "code",
   "execution_count": 22,
   "metadata": {
    "autoscroll": "json-false",
    "collapsed": false,
    "ein.tags": [
     "worksheet-0"
    ],
    "slideshow": {
     "slide_type": "-"
    }
   },
   "outputs": [
    {
     "data": {
      "text/plain": [
       "<module 'extract_features' from '/home/sylver/Projects/env/queryperformance20170717/extract_features.py'>"
      ]
     },
     "execution_count": 22,
     "metadata": {},
     "output_type": "execute_result"
    }
   ],
   "source": [
    "importlib.reload(extract_features)\n",
    "              "
   ]
  },
  {
   "cell_type": "code",
   "execution_count": 19,
   "metadata": {
    "autoscroll": "json-false",
    "collapsed": false,
    "ein.tags": [
     "worksheet-0"
    ],
    "slideshow": {
     "slide_type": "-"
    }
   },
   "outputs": [
    {
     "name": "stdout",
     "output_type": "stream",
     "text": [
      "__main__\n"
     ]
    }
   ],
   "source": [
    "print(__name__)"
   ]
  },
  {
   "cell_type": "code",
   "execution_count": 0,
   "metadata": {
    "autoscroll": "json-false",
    "collapsed": false,
    "ein.tags": [
     "worksheet-0"
    ],
    "slideshow": {
     "slide_type": "-"
    }
   },
   "outputs": [],
   "source": [
    "data = extract_features.main()"
   ]
  },
  {
   "cell_type": "code",
   "execution_count": 29,
   "metadata": {
    "autoscroll": "json-false",
    "collapsed": false,
    "ein.tags": [
     "worksheet-0"
    ],
    "slideshow": {
     "slide_type": "-"
    }
   },
   "outputs": [],
   "source": [
    "from pprint import pprint"
   ]
  },
  {
   "cell_type": "code",
   "execution_count": 0,
   "metadata": {
    "autoscroll": "json-false",
    "collapsed": false,
    "ein.tags": [
     "worksheet-0"
    ],
    "slideshow": {
     "slide_type": "-"
    }
   },
   "outputs": [],
   "source": [
    "import json\n",
    "json_data = json.dumps(data)\n",
    "pprint(json_data)"
   ]
  },
  {
   "cell_type": "code",
   "execution_count": 33,
   "metadata": {
    "autoscroll": "json-false",
    "collapsed": false,
    "ein.tags": [
     "worksheet-0"
    ],
    "slideshow": {
     "slide_type": "-"
    }
   },
   "outputs": [],
   "source": [
    "text = '2017-07-23 15:11:03,136 - type_16 - INFO - scputimes(user=20.0, nice=0.0, system=20.0, idle=60.0, iowait=0.0, irq=0.0, softirq=0.0, steal=0.0, guest=0.0, guest_nice=0.0)'"
   ]
  },
  {
   "cell_type": "code",
   "execution_count": 0,
   "metadata": {
    "autoscroll": "json-false",
    "collapsed": false,
    "ein.tags": [
     "worksheet-0"
    ],
    "slideshow": {
     "slide_type": "-"
    }
   },
   "outputs": [],
   "source": [
    "import re"
   ]
  },
  {
   "cell_type": "code",
   "execution_count": 36,
   "metadata": {
    "autoscroll": "json-false",
    "collapsed": false,
    "ein.tags": [
     "worksheet-0"
    ],
    "slideshow": {
     "slide_type": "-"
    }
   },
   "outputs": [],
   "source": [
    "util = re.compile(\n",
    "       r'''\n",
    "       (?P<timestamp>(\\d){4}\\-(\\d){2}\\-(\\d){2}\\s(\\d){2}:(\\d){2}:(\\d){2}(\\,(\\d)+)?)\n",
    "       .*user=\n",
    "       (?P<user>(\\d)+(\\.(\\d)+)?)\n",
    "       .*system=\n",
    "       (?P<system>(\\d)+(\\.(\\d)+)?)\n",
    "       .*idle=\n",
    "       (?P<idle>(\\d)+(\\.(\\d)+)?)\n",
    "       .*iowait=\n",
    "       (?P<iowait>(\\d)+(\\.(\\d)+)?)\n",
    "       .*irq=\n",
    "       (?P<irq>(\\d)+(\\.(\\d)+)?)\n",
    "       .*softirq=\n",
    "       (?P<softirq>(\\d)+(\\.(\\d)+)?)\n",
    "       ''',\n",
    "       re.VERBOSE)"
   ]
  },
  {
   "cell_type": "code",
   "execution_count": 38,
   "metadata": {
    "autoscroll": "json-false",
    "collapsed": false,
    "ein.tags": [
     "worksheet-0"
    ],
    "slideshow": {
     "slide_type": "-"
    }
   },
   "outputs": [
    {
     "name": "stdout",
     "output_type": "stream",
     "text": [
      "match\n"
     ]
    }
   ],
   "source": [
    "match = re.search(util, text)\n",
    "if match:\n",
    "              print('match')\n",
    "else:\n",
    "              print('no match')"
   ]
  },
  {
   "cell_type": "code",
   "execution_count": 0,
   "metadata": {
    "autoscroll": "json-false",
    "collapsed": false,
    "ein.tags": [
     "worksheet-0"
    ],
    "slideshow": {
     "slide_type": "-"
    }
   },
   "outputs": [],
   "source": [
    "2017-07-23 16:10:43,215 - type_81 - INFO - svmem(total=8229171200, available=4173209600, percent=49.3, used=1561346048, free=1020755968, active=5260144640, inactive=1532235776, buffers=391454720, cached=5255614464, shared=2182553600)\n",
    "2017-07-23 16:10:43,215 - type_81 - INFO - User time                 (ru_utime  ) = 0.0\n",
    "2017-07-23 16:10:43,215 - type_81 - INFO - System time               (ru_stime  ) = 0.0\n",
    "2017-07-23 16:10:43,215 - type_81 - INFO - Page faults not requiring I/O (ru_minflt ) = 1018\n",
    "2017-07-23 16:10:43,215 - type_81 - INFO - Page faults requiring I/O (ru_majflt ) = 0\n",
    "2017-07-23 16:10:43,215 - type_81 - INFO - Block inputs              (ru_inblock) = 0\n",
    "2017-07-23 16:10:43,215 - type_81 - INFO - Block outputs             (ru_oublock) = 8\n"
   ]
  },
  {
   "cell_type": "code",
   "execution_count": 39,
   "metadata": {
    "autoscroll": "json-false",
    "collapsed": false,
    "ein.tags": [
     "worksheet-0"
    ],
    "slideshow": {
     "slide_type": "-"
    }
   },
   "outputs": [
    {
     "name": "stdout",
     "output_type": "stream",
     "text": [
      "atja.\n"
     ]
    }
   ],
   "source": [
    "a = 'atja.sql'\n",
    "print(a[:-3])              "
   ]
  },
  {
   "cell_type": "code",
   "execution_count": 30,
   "metadata": {
    "autoscroll": "json-false",
    "collapsed": false,
    "ein.tags": [
     "worksheet-0"
    ],
    "slideshow": {
     "slide_type": "-"
    }
   },
   "outputs": [
    {
     "name": "stdout",
     "output_type": "stream",
     "text": [
      "'Index Only Scan': {'cost': 1080.53, 'rows': 2},\n",
      "                           'Index Scan': {'cost': 10811.880000000001,\n",
      "                                          'rows': 10},\n",
      "                           'Limit': {'cost': 0.010000000009313226, 'rows': 1},\n",
      "                           'Nested Loop': {'cost': 202094.52000000002,\n",
      "                                           'rows': 5},\n",
      "                           'Process Id': '8348',\n",
      "                           'Seq Scan': {'cost': 53543.1, 'rows': 1442515},\n",
      "                           'Session Id': '597429f9.209c',\n",
      "                           'Session line': '45',\n",
      "                           'Sort': {'cost': 0.010000000009313226, 'rows': 1},\n",
      "                           'Timestamp': '2017-07-23 12:47:28.912',\n",
      "                           'Username': 'sylver'},\n",
      " '8348_597429f9.209c_47': {'Aggregate': {'cost': 0.00999999999476131,\n",
      "                                         'rows': 1},\n",
      "                           'Application Name': 'psql',\n",
      "                           'Duration': '5001.264',\n",
      "                           'Hash': {'cost': 0.0, 'rows': 59},\n",
      "                           'Hash Join': {'cost': 57237.83, 'rows': 1158},\n",
      "                           'Index Only Scan': {'cost': 1080.53, 'rows': 2},\n",
      "                           'Index Scan': {'cost': 10811.87, 'rows': 10},\n",
      "                           'Limit': {'cost': 0.00999999999476131, 'rows': 1},\n",
      "                           'Materialize': {'cost': 10.68, 'rows': 5},\n",
      "                           'Nested Loop': {'cost': 298601.67999999993,\n",
      "                                           'rows': 160},\n",
      "                           'Process Id': '8348',\n",
      "                           'Seq Scan': {'cost': 54331.83, 'rows': 1441609},\n",
      "                           'Session Id': '597429f9.209c',\n",
      "                           'Session line': '47',\n",
      "                           'Sort': {'cost': 0.00999999999476131, 'rows': 1},\n",
      "                           'Timestamp': '2017-07-23 12:47:33.966',\n",
      "                           'Username': 'sylver'},\n",
      " '8348_597429f9.209c_49': {'Aggregate': {'cost': 0.00999999999476131,\n",
      "                                         'rows': 1},\n",
      "                           'Application Name': 'psql',\n",
      "                           'Duration': '2240.938',\n",
      "                           'Hash': {'cost': 0.0, 'rows': 61},\n",
      "                           'Hash Join': {'cost': 57238.21, 'rows': 1197},\n",
      "                           'Index Only Scan': {'cost': 1080.53, 'rows': 2},\n",
      "                           'Index Scan': {'cost': 10811.87, 'rows': 10},\n",
      "                           'Limit': {'cost': 0.0, 'rows': 1},\n",
      "                           'Materialize': {'cost': 10.68, 'rows': 5},\n",
      "                           'Nested Loop': {'cost': 268697.48000000004,\n",
      "                                           'rows': 157},\n",
      "                           'Process Id': '8348',\n",
      "                           'Seq Scan': {'cost': 54331.83, 'rows': 1441611},\n",
      "                           'Session Id': '597429f9.209c',\n",
      "                           'Session line': '49',\n",
      "                           'Sort': {'cost': 0.0, 'rows': 1},\n",
      "                           'Timestamp': '2017-07-23 12:47:36.260',\n",
      "                           'Username': 'sylver'},\n",
      " '8348_597429f9.209c_5': {'Aggregate': {'cost': 0.00999999999476131, 'rows': 1},\n",
      "                          'Application Name': 'psql',\n",
      "                          'Duration': '2066.674',\n",
      "                          'Hash': {'cost': 0.0, 'rows': 61},\n",
      "                          'Hash Join': {'cost': 57238.21, 'rows': 1197},\n",
      "                          'Index Only Scan': {'cost': 1080.53, 'rows': 2},\n",
      "                          'Index Scan': {'cost': 10811.87, 'rows': 10},\n",
      "                          'Limit': {'cost': 0.0, 'rows': 1},\n",
      "                          'Materialize': {'cost': 10.68, 'rows': 5},\n",
      "                          'Nested Loop': {'cost': 256803.73, 'rows': 155},\n",
      "                          'Process Id': '8348',\n",
      "                          'Seq Scan': {'cost': 54331.83, 'rows': 1441611},\n",
      "                          'Session Id': '597429f9.209c',\n",
      "                          'Session line': '5',\n",
      "                          'Sort': {'cost': 0.0, 'rows': 1},\n",
      "                          'Timestamp': '2017-07-23 12:46:40.108',\n",
      "                          'Username': 'sylver'},\n",
      " '8348_597429f9.209c_51': {'Aggregate': {'cost': 0.00999999999476131,\n",
      "                                         'rows': 1},\n",
      "                           'Application Name': 'psql',\n",
      "                           'Duration': '3230.970',\n",
      "                           'Hash': {'cost': 0.0, 'rows': 59},\n",
      "                           'Hash Join': {'cost': 57237.83, 'rows': 1158},\n",
      "                           'Index Only Scan': {'cost': 1080.53, 'rows': 2},\n",
      "                           'Index Scan': {'cost': 10811.87, 'rows': 10},\n",
      "                           'Limit': {'cost': 0.0, 'rows': 1},\n",
      "                           'Materialize': {'cost': 10.68, 'rows': 5},\n",
      "                           'Nested Loop': {'cost': 256785.63999999998,\n",
      "                                           'rows': 150},\n",
      "                           'Process Id': '8348',\n",
      "                           'Seq Scan': {'cost': 54331.83, 'rows': 1441609},\n",
      "                           'Session Id': '597429f9.209c',\n",
      "                           'Session line': '51',\n",
      "                           'Sort': {'cost': 0.0, 'rows': 1},\n",
      "                           'Timestamp': '2017-07-23 12:47:39.544',\n",
      "                           'Username': 'sylver'},\n",
      " '8348_597429f9.209c_53': {'Aggregate': {'cost': 0.00999999999476131,\n",
      "                                         'rows': 1},\n",
      "                           'Application Name': 'psql',\n",
      "                           'Duration': '1443.992',\n",
      "                           'Hash': {'cost': 0.0, 'rows': 1053},\n",
      "                           'Hash Join': {'cost': 115203.75, 'rows': 33795},\n",
      "                           'Index Only Scan': {'cost': 1080.53, 'rows': 2},\n",
      "                           'Index Scan': {'cost': 10811.880000000001,\n",
      "                                          'rows': 10},\n",
      "                           'Limit': {'cost': 0.0, 'rows': 1},\n",
      "                           'Nested Loop': {'cost': 202494.16999999998,\n",
      "                                           'rows': 5},\n",
      "                           'Process Id': '8348',\n",
      "                           'Seq Scan': {'cost': 53543.1, 'rows': 1442598},\n",
      "                           'Session Id': '597429f9.209c',\n",
      "                           'Session line': '53',\n",
      "                           'Sort': {'cost': 0.0, 'rows': 1},\n",
      "                           'Timestamp': '2017-07-23 12:47:41.041',\n",
      "                           'Username': 'sylver'},\n",
      " '8348_597429f9.209c_55': {'Aggregate': {'cost': 0.010000000009313226,\n",
      "                                         'rows': 1},\n",
      "                           'Application Name': 'psql',\n",
      "                           'Duration': '1010.956',\n",
      "                           'Hash': {'cost': 0.0, 'rows': 812},\n",
      "                           'Hash Join': {'cost': 115030.97, 'rows': 26023},\n",
      "                           'Index Only Scan': {'cost': 1080.53, 'rows': 2},\n",
      "                           'Index Scan': {'cost': 10811.880000000001,\n",
      "                                          'rows': 10},\n",
      "                           'Limit': {'cost': 0.00999999999476131, 'rows': 1},\n",
      "                           'Nested Loop': {'cost': 199800.54, 'rows': 4},\n",
      "                           'Process Id': '8348',\n",
      "                           'Seq Scan': {'cost': 53543.1, 'rows': 1442357},\n",
      "                           'Session Id': '597429f9.209c',\n",
      "                           'Session line': '55',\n",
      "                           'Sort': {'cost': 0.00999999999476131, 'rows': 1},\n",
      "                           'Timestamp': '2017-07-23 12:47:42.105',\n",
      "                           'Username': 'sylver'},\n",
      " '8348_597429f9.209c_57': {'Aggregate': {'cost': 0.00999999999476131,\n",
      "                                         'rows': 1},\n",
      "                           'Application Name': 'psql',\n",
      "                           'Duration': '1455.743',\n",
      "                           'Hash': {'cost': 0.0, 'rows': 1053},\n",
      "                           'Hash Join': {'cost': 115203.75, 'rows': 33795},\n",
      "                           'Index Only Scan': {'cost': 1080.53, 'rows': 2},\n",
      "                           'Index Scan': {'cost': 10811.880000000001,\n",
      "                                          'rows': 10},\n",
      "                           'Limit': {'cost': 0.0, 'rows': 1},\n",
      "                           'Nested Loop': {'cost': 202494.16999999998,\n",
      "                                           'rows': 5},\n",
      "                           'Process Id': '8348',\n",
      "                           'Seq Scan': {'cost': 53543.1, 'rows': 1442598},\n",
      "                           'Session Id': '597429f9.209c',\n",
      "                           'Session line': '57',\n",
      "                           'Sort': {'cost': 0.0, 'rows': 1},\n",
      "                           'Timestamp': '2017-07-23 12:47:43.614',\n",
      "                           'Username': 'sylver'},\n",
      " '8348_597429f9.209c_59': {'Aggregate': {'cost': 0.00999999999476131,\n",
      "                                         'rows': 1},\n",
      "                           'Application Name': 'psql',\n",
      "                           'Duration': '2497.605',\n",
      "                           'Hash': {'cost': 0.0, 'rows': 1080},\n",
      "                           'Hash Join': {'cost': 115223.09, 'rows': 34665},\n",
      "                           'Index Only Scan': {'cost': 1080.53, 'rows': 2},\n",
      "                           'Index Scan': {'cost': 10811.880000000001,\n",
      "                                          'rows': 10},\n",
      "                           'Limit': {'cost': 0.00999999999476131, 'rows': 1},\n",
      "                           'Nested Loop': {'cost': 202623.87, 'rows': 5},\n",
      "                           'Process Id': '8348',\n",
      "                           'Seq Scan': {'cost': 53543.1, 'rows': 1442625},\n",
      "                           'Session Id': '597429f9.209c',\n",
      "                           'Session line': '59',\n",
      "                           'Sort': {'cost': 0.00999999999476131, 'rows': 1},\n",
      "                           'Timestamp': '2017-07-23 12:47:46.164',\n",
      "                           'Username': 'sylver'},\n",
      " '8348_597429f9.209c_61': {'Aggregate': {'cost': 0.010000000009313226,\n",
      "                                         'rows': 1},\n",
      "                           'Application Name': 'psql',\n",
      "                           'Duration': '1035.886',\n",
      "                           'Hash': {'cost': 0.0, 'rows': 727},\n",
      "                           'Hash Join': {'cost': 114970.04000000001,\n",
      "                                         'rows': 23282},\n",
      "                           'Index Only Scan': {'cost': 1080.53, 'rows': 2},\n",
      "                           'Index Scan': {'cost': 10811.880000000001,\n",
      "                                          'rows': 10},\n",
      "                           'Limit': {'cost': 0.00999999999476131, 'rows': 1},\n",
      "                           'Nested Loop': {'cost': 199391.39, 'rows': 4},\n",
      "                           'Process Id': '8348',\n",
      "                           'Seq Scan': {'cost': 53543.1, 'rows': 1442272},\n",
      "                           'Session Id': '597429f9.209c',\n",
      "                           'Session line': '61',\n",
      "                           'Sort': {'cost': 0.00999999999476131, 'rows': 1},\n",
      "                           'Timestamp': '2017-07-23 12:47:47.253',\n",
      "                           'Username': 'sylver'},\n",
      " '8348_597429f9.209c_63': {'Aggregate': {'cost': 0.010000000009313226,\n",
      "                                         'rows': 1},\n",
      "                           'Application Name': 'psql',\n",
      "                           'Duration': '994.363',\n",
      "                           'Hash': {'cost': 0.0, 'rows': 365},\n",
      "                           'Hash Join': {'cost': 114710.54000000001,\n",
      "                                         'rows': 11608},\n",
      "                           'Index Only Scan': {'cost': 1080.53, 'rows': 2},\n",
      "                           'Index Scan': {'cost': 10811.880000000001,\n",
      "                                          'rows': 10},\n",
      "                           'Limit': {'cost': 0.010000000009313226, 'rows': 1},\n",
      "                           'Nested Loop': {'cost': 217424.37, 'rows': 3},\n",
      "                           'Process Id': '8348',\n",
      "                           'Seq Scan': {'cost': 53543.1, 'rows': 1441910},\n",
      "                           'Session Id': '597429f9.209c',\n",
      "                           'Session line': '63',\n",
      "                           'Sort': {'cost': 0.010000000009313226, 'rows': 1},\n",
      "                           'Timestamp': '2017-07-23 12:47:48.300',\n",
      "                           'Username': 'sylver'},\n",
      " '8348_597429f9.209c_65': {'Aggregate': {'cost': 0.00999999999476131,\n",
      "                                         'rows': 1},\n",
      "                           'Application Name': 'psql',\n",
      "                           'Duration': '2052.330',\n",
      "                           'Hash': {'cost': 0.0, 'rows': 59},\n",
      "                           'Hash Join': {'cost': 57237.83, 'rows': 1158},\n",
      "                           'Index Only Scan': {'cost': 1080.53, 'rows': 2},\n",
      "                           'Index Scan': {'cost': 10811.87, 'rows': 10},\n",
      "                           'Limit': {'cost': 0.0, 'rows': 1},\n",
      "                           'Materialize': {'cost': 10.68, 'rows': 5},\n",
      "                           'Nested Loop': {'cost': 256785.63999999998,\n",
      "                                           'rows': 150},\n",
      "                           'Process Id': '8348',\n",
      "                           'Seq Scan': {'cost': 54331.83, 'rows': 1441609},\n",
      "                           'Session Id': '597429f9.209c',\n",
      "                           'Session line': '65',\n",
      "                           'Sort': {'cost': 0.0, 'rows': 1},\n",
      "                           'Timestamp': '2017-07-23 12:47:50.406',\n",
      "                           'Username': 'sylver'},\n",
      " '8348_597429f9.209c_67': {'Aggregate': {'cost': 0.010000000009313226,\n",
      "                                         'rows': 1},\n",
      "                           'Application Name': 'psql',\n",
      "                           'Duration': '1303.620',\n",
      "                           'Hash': {'cost': 0.0, 'rows': 1022},\n",
      "                           'Hash Join': {'cost': 115181.53, 'rows': 32795},\n",
      "                           'Index Only Scan': {'cost': 1080.53, 'rows': 2},\n",
      "                           'Index Scan': {'cost': 10811.880000000001,\n",
      "                                          'rows': 10},\n",
      "                           'Limit': {'cost': 0.0, 'rows': 1},\n",
      "                           'Nested Loop': {'cost': 202344.46, 'rows': 5},\n",
      "                           'Process Id': '8348',\n",
      "                           'Seq Scan': {'cost': 53543.1, 'rows': 1442567},\n",
      "                           'Session Id': '597429f9.209c',\n",
      "                           'Session line': '67',\n",
      "                           'Sort': {'cost': 0.0, 'rows': 1},\n",
      "                           'Timestamp': '2017-07-23 12:47:51.762',\n",
      "                           'Username': 'sylver'},\n",
      " '8348_597429f9.209c_69': {'Aggregate': {'cost': 0.010000000009313226,\n",
      "                                         'rows': 1},\n",
      "                           'Application Name': 'psql',\n",
      "                           'Duration': '1285.244',\n",
      "                           'Hash': {'cost': 0.0, 'rows': 378},\n",
      "                           'Hash Join': {'cost': 114719.87, 'rows': 12028},\n",
      "                           'Index Only Scan': {'cost': 1080.53, 'rows': 2},\n",
      "                           'Index Scan': {'cost': 10811.880000000001,\n",
      "                                          'rows': 10},\n",
      "                           'Limit': {'cost': 0.0, 'rows': 1},\n",
      "                           'Nested Loop': {'cost': 217487.62, 'rows': 3},\n",
      "                           'Process Id': '8348',\n",
      "                           'Seq Scan': {'cost': 53543.1, 'rows': 1441923},\n",
      "                           'Session Id': '597429f9.209c',\n",
      "                           'Session line': '69',\n",
      "                           'Sort': {'cost': 0.0, 'rows': 1},\n",
      "                           'Timestamp': '2017-07-23 12:47:53.100',\n",
      "                           'Username': 'sylver'},\n",
      " '8348_597429f9.209c_7': {'Aggregate': {'cost': 0.00999999999476131, 'rows': 1},\n",
      "                          'Application Name': 'psql',\n",
      "                          'Duration': '1710.815',\n",
      "                          'Hash': {'cost': 0.0, 'rows': 1080},\n",
      "                          'Hash Join': {'cost': 115223.09, 'rows': 34665},\n",
      "                          'Index Only Scan': {'cost': 1080.53, 'rows': 2},\n",
      "                          'Index Scan': {'cost': 10811.880000000001,\n",
      "                                         'rows': 10},\n",
      "                          'Limit': {'cost': 0.00999999999476131, 'rows': 1},\n",
      "                          'Nested Loop': {'cost': 202623.87, 'rows': 5},\n",
      "                          'Process Id': '8348',\n",
      "                          'Seq Scan': {'cost': 53543.1, 'rows': 1442625},\n",
      "                          'Session Id': '597429f9.209c',\n",
      "                          'Session line': '7',\n",
      "                          'Sort': {'cost': 0.00999999999476131, 'rows': 1},\n",
      "                          'Timestamp': '2017-07-23 12:46:41.885',\n",
      "                          'Username': 'sylver'},\n",
      " '8348_597429f9.209c_71': {'Aggregate': {'cost': 0.00999999999476131,\n",
      "                                         'rows': 1},\n",
      "                           'Application Name': 'psql',\n",
      "                           'Duration': '2553.004',\n",
      "                           'Hash': {'cost': 0.0, 'rows': 59},\n",
      "                           'Hash Join': {'cost': 57237.83, 'rows': 1158},\n",
      "                           'Index Only Scan': {'cost': 1080.53, 'rows': 2},\n",
      "                           'Index Scan': {'cost': 10811.87, 'rows': 10},\n",
      "                           'Limit': {'cost': 0.0, 'rows': 1},\n",
      "                           'Materialize': {'cost': 10.68, 'rows': 5},\n",
      "                           'Nested Loop': {'cost': 268679.38, 'rows': 152},\n",
      "                           'Process Id': '8348',\n",
      "                           'Seq Scan': {'cost': 54331.83, 'rows': 1441609},\n",
      "                           'Session Id': '597429f9.209c',\n",
      "                           'Session line': '71',\n",
      "                           'Sort': {'cost': 0.0, 'rows': 1},\n",
      "                           'Timestamp': '2017-07-23 12:47:55.706',\n",
      "                           'Username': 'sylver'},\n",
      " '8348_597429f9.209c_73': {'Aggregate': {'cost': 0.00999999999476131,\n",
      "                                         'rows': 1},\n",
      "                           'Application Name': 'psql',\n",
      "                           'Duration': '2866.452',\n",
      "                           'Hash': {'cost': 0.0, 'rows': 59},\n",
      "                           'Hash Join': {'cost': 57237.83, 'rows': 1158},\n",
      "                           'Index Only Scan': {'cost': 1080.53, 'rows': 2},\n",
      "                           'Index Scan': {'cost': 10811.87, 'rows': 10},\n",
      "                           'Limit': {'cost': 0.0, 'rows': 1},\n",
      "                           'Materialize': {'cost': 10.68, 'rows': 5},\n",
      "                           'Nested Loop': {'cost': 270213.07999999996,\n",
      "                                           'rows': 153},\n",
      "                           'Process Id': '8348',\n",
      "                           'Seq Scan': {'cost': 54331.83, 'rows': 1441609},\n",
      "                           'Session Id': '597429f9.209c',\n",
      "                           'Session line': '73',\n",
      "                           'Sort': {'cost': 0.0, 'rows': 1},\n",
      "                           'Timestamp': '2017-07-23 12:47:58.625',\n",
      "                           'Username': 'sylver'},\n",
      " '8348_597429f9.209c_75': {'Aggregate': {'cost': 0.00999999999476131,\n",
      "                                         'rows': 1},\n",
      "                           'Application Name': 'psql',\n",
      "                           'Duration': '1602.982',\n",
      "                           'Hash': {'cost': 0.0, 'rows': 59},\n",
      "                           'Hash Join': {'cost': 57237.83, 'rows': 1158},\n",
      "                           'Index Only Scan': {'cost': 1080.53, 'rows': 2},\n",
      "                           'Index Scan': {'cost': 10811.87, 'rows': 10},\n",
      "                           'Limit': {'cost': 0.0, 'rows': 1},\n",
      "                           'Materialize': {'cost': 10.68, 'rows': 5},\n",
      "                           'Nested Loop': {'cost': 256785.63999999998,\n",
      "                                           'rows': 150},\n",
      "                           'Process Id': '8348',\n",
      "                           'Seq Scan': {'cost': 54331.83, 'rows': 1441609},\n",
      "                           'Session Id': '597429f9.209c',\n",
      "                           'Session line': '75',\n",
      "                           'Sort': {'cost': 0.0, 'rows': 1},\n",
      "                           'Timestamp': '2017-07-23 12:48:00.281',\n",
      "                           'Username': 'sylver'},\n",
      " '8348_597429f9.209c_77': {'Aggregate': {'cost': 0.00999999999476131,\n",
      "                                         'rows': 1},\n",
      "                           'Application Name': 'psql',\n",
      "                           'Duration': '2240.315',\n",
      "                           'Hash': {'cost': 0.0, 'rows': 59},\n",
      "                           'Hash Join': {'cost': 57237.83, 'rows': 1158},\n",
      "                           'Index Only Scan': {'cost': 1080.53, 'rows': 2},\n",
      "                           'Index Scan': {'cost': 10811.87, 'rows': 10},\n",
      "                           'Limit': {'cost': 0.0, 'rows': 1},\n",
      "                           'Materialize': {'cost': 10.68, 'rows': 5},\n",
      "                           'Nested Loop': {'cost': 256785.63999999998,\n",
      "                                           'rows': 150},\n",
      "                           'Process Id': '8348',\n",
      "                           'Seq Scan': {'cost': 54331.83, 'rows': 1441609},\n",
      "                           'Session Id': '597429f9.209c',\n",
      "                           'Session line': '77',\n",
      "                           'Sort': {'cost': 0.0, 'rows': 1},\n",
      "                           'Timestamp': '2017-07-23 12:48:02.574',\n",
      "                           'Username': 'sylver'},\n",
      " '8348_597429f9.209c_9': {'Aggregate': {'cost': 0.010000000009313226,\n",
      "                                        'rows': 1},\n",
      "                          'Application Name': 'psql',\n",
      "                          'Duration': '1204.944',\n",
      "                          'Hash': {'cost': 0.0, 'rows': 553},\n",
      "                          'Hash Join': {'cost': 114845.33, 'rows': 17672},\n",
      "                          'Index Only Scan': {'cost': 1080.53, 'rows': 2},\n",
      "                          'Index Scan': {'cost': 10811.880000000001,\n",
      "                                         'rows': 10},\n",
      "                          'Limit': {'cost': 0.00999999999476131, 'rows': 1},\n",
      "                          'Nested Loop': {'cost': 198554.16, 'rows': 4},\n",
      "                          'Process Id': '8348',\n",
      "                          'Seq Scan': {'cost': 53543.1, 'rows': 1442098},\n",
      "                          'Session Id': '597429f9.209c',\n",
      "                          'Session line': '9',\n",
      "                          'Sort': {'cost': 0.00999999999476131, 'rows': 1},\n",
      "                          'Timestamp': '2017-07-23 12:46:43.162',\n",
      "                          'Username': 'sylver'},\n",
      " '8349_597429f9.209d_1': {'Aggregate': {'cost': 13.879999999990105, 'rows': 1},\n",
      "                          'Application Name': 'psql',\n",
      "                          'Duration': '12632.488',\n",
      "                          'Hash': {'cost': 0.0, 'rows': 365},\n",
      "                          'Hash Join': {'cost': 91438.78000000001,\n",
      "                                        'rows': 13705},\n",
      "                          'Limit': {'cost': 0.00999999999476131, 'rows': 1},\n",
      "                          'Nested Loop': {'cost': 91620.59000000001,\n",
      "                                          'rows': 326},\n",
      "                          'Process Id': '8349',\n",
      "                          'Seq Scan': {'cost': 82828.78, 'rows': 2880783},\n",
      "                          'Session Id': '597429f9.209d',\n",
      "                          'Session line': '1',\n",
      "                          'Sort': {'cost': 0.819999999992433, 'rows': 327},\n",
      "                          'Timestamp': '2017-07-23 12:45:58.600',\n",
      "                          'Username': 'sylver'},\n",
      " '8350_597429f9.209e_1': {'Aggregate': {'cost': 29743.319999999963,\n",
      "                                        'rows': 915179},\n",
      "                          'Application Name': 'psql',\n",
      "                          'CTE Scan': {'cost': 20591.53, 'rows': 4576},\n",
      "                          'Duration': '79291.895',\n",
      "                          'Hash': {'cost': 0.0, 'rows': 435399},\n",
      "                          'Hash Join': {'cost': 728613.8, 'rows': 1749334},\n",
      "                          'Index Only Scan': {'cost': 27628.710000000003,\n",
      "                                              'rows': 287514},\n",
      "                          'Index Scan': {'cost': 291642.16000000003,\n",
      "                                         'rows': 2880417},\n",
      "                          'Limit': {'cost': 0.25, 'rows': 100},\n",
      "                          'Merge Join': {'cost': 335126.84, 'rows': 89089},\n",
      "                          'Process Id': '8350',\n",
      "                          'Seq Scan': {'cost': 90550.06000000001,\n",
      "                                       'rows': 2595906},\n",
      "                          'Session Id': '597429f9.209e',\n",
      "                          'Session line': '1',\n",
      "                          'Sort': {'cost': 2293.199999999968, 'rows': 917281},\n",
      "                          'Timestamp': '2017-07-23 12:47:07.483',\n",
      "                          'Username': 'sylver'}}\n"
     ]
    },
    {
     "name": "stdout",
     "output_type": "stream",
     "text": [
      "{'8329_597429f9.2089_1': {'Aggregate': {'cost': 2640.8300000000163,\n",
      "                                        'rows': 58685},\n",
      "                          'Application Name': 'psql',\n",
      "                          'CTE Scan': {'cost': 2640.82, 'rows': 586},\n",
      "                          'Duration': '22163.079',\n",
      "                          'Hash': {'cost': 0.0, 'rows': 18758},\n",
      "                          'Hash Join': {'cost': 680462.31, 'rows': 176057},\n",
      "                          'Process Id': '8329',\n",
      "                          'Seq Scan': {'cost': 184675.05, 'rows': 11763359},\n",
      "                          'Session Id': '597429f9.2089',\n",
      "                          'Session line': '1',\n",
      "                          'Sort': {'cost': 146.73000000001048, 'rows': 58687},\n",
      "                          'Subquery Scan': {'cost': 3521.100000000006,\n",
      "                                            'rows': 58685},\n",
      "                          'Timestamp': '2017-07-23 12:46:08.437',\n",
      "                          'Username': 'sylver'},\n",
      " '8336_597429f9.2090_1': {'Aggregate': {'cost': 0.010000000009313226,\n",
      "                                        'rows': 1},\n",
      "                          'Append': {'cost': 158848.02, 'rows': 36124},\n",
      "                          'Application Name': 'psql',\n",
      "                          'Duration': '37291.753',\n",
      "                          'Hash': {'cost': 0.0, 'rows': 1074},\n",
      "                          'Hash Join': {'cost': 177426.41999999998,\n",
      "                                        'rows': 23992},\n",
      "                          'Index Scan': {'cost': 0.09000000000000008,\n",
      "                                         'rows': 3},\n",
      "                          'Nested Loop': {'cost': 185283.48, 'rows': 23318},\n",
      "                          'Process Id': '8336',\n",
      "                          'Result': {'cost': 63229.32000000001, 'rows': 12806},\n",
      "                          'Seq Scan': {'cost': 165783.65000000002,\n",
      "                                       'rows': 5042420},\n",
      "                          'Session Id': '597429f9.2090',\n",
      "                          'Session line': '1',\n",
      "                          'SetOp': {'cost': 159118.95, 'rows': 25612},\n",
      "                          'Sort': {'cost': 58.299999999991996, 'rows': 23318},\n",
      "                          'Subquery Scan': {'cost': 96612.11, 'rows': 36124},\n",
      "                          'Timestamp': '2017-07-23 12:46:23.312',\n",
      "                          'Unique': {'cost': 233.17999999999665, 'rows': 23318},\n",
      "                          'Username': 'sylver'},\n",
      " '8336_597429f9.2090_11': {'Aggregate': {'cost': 0.010000000009313226,\n",
      "                                         'rows': 1},\n",
      "                           'Append': {'cost': 159783.19999999998,\n",
      "                                      'rows': 40161},\n",
      "                           'Application Name': 'psql',\n",
      "                           'Duration': '3864.983',\n",
      "                           'Hash': {'cost': 0.0, 'rows': 1194},\n",
      "                           'Hash Join': {'cost': 177453.22999999998,\n",
      "                                         'rows': 26673},\n",
      "                           'Index Scan': {'cost': 0.09000000000000008,\n",
      "                                          'rows': 3},\n",
      "                           'Nested Loop': {'cost': 186188.38999999998,\n",
      "                                           'rows': 25924},\n",
      "                           'Process Id': '8336',\n",
      "                           'Result': {'cost': 63626.630000000005,\n",
      "                                      'rows': 14237},\n",
      "                           'Seq Scan': {'cost': 165783.65000000002,\n",
      "                                        'rows': 5042540},\n",
      "                           'Session Id': '597429f9.2090',\n",
      "                           'Session line': '11',\n",
      "                           'SetOp': {'cost': 160084.40000000002, 'rows': 28474},\n",
      "                           'Sort': {'cost': 64.82000000000335, 'rows': 25924},\n",
      "                           'Subquery Scan': {'cost': 97260.99000000002,\n",
      "                                             'rows': 40161},\n",
      "                           'Timestamp': '2017-07-23 12:46:42.796',\n",
      "                           'Unique': {'cost': 259.2400000000016, 'rows': 25924},\n",
      "                           'Username': 'sylver'},\n",
      " '8336_597429f9.2090_13': {'Aggregate': {'cost': 0.010000000009313226,\n",
      "                                         'rows': 1},\n",
      "                           'Append': {'cost': 157518.93000000002,\n",
      "                                      'rows': 30371},\n",
      "                           'Application Name': 'psql',\n",
      "                           'Duration': '3786.298',\n",
      "                           'Hash': {'cost': 0.0, 'rows': 903},\n",
      "                           'Hash Join': {'cost': 177388.22, 'rows': 20172},\n",
      "                           'Index Scan': {'cost': 0.09000000000000008,\n",
      "                                          'rows': 3},\n",
      "                           'Nested Loop': {'cost': 183994.14, 'rows': 19605},\n",
      "                           'Process Id': '8336',\n",
      "                           'Result': {'cost': 62664.53999999999, 'rows': 10766},\n",
      "                           'Seq Scan': {'cost': 165783.65000000002,\n",
      "                                        'rows': 5042249},\n",
      "                           'Session Id': '597429f9.2090',\n",
      "                           'Session line': '13',\n",
      "                           'SetOp': {'cost': 157746.71, 'rows': 21532},\n",
      "                           'Sort': {'cost': 49.000000000007276, 'rows': 19605},\n",
      "                           'Subquery Scan': {'cost': 95689.59000000001,\n",
      "                                             'rows': 30371},\n",
      "                           'Timestamp': '2017-07-23 12:46:46.658',\n",
      "                           'Unique': {'cost': 196.0500000000102, 'rows': 19605},\n",
      "                           'Username': 'sylver'},\n",
      " '8336_597429f9.2090_15': {'Aggregate': {'cost': 0.010000000009313226,\n",
      "                                         'rows': 1},\n",
      "                           'Append': {'cost': 158661.06999999998,\n",
      "                                      'rows': 35315},\n",
      "                           'Application Name': 'psql',\n",
      "                           'Duration': '3819.168',\n",
      "                           'Hash': {'cost': 0.0, 'rows': 1050},\n",
      "                           'Hash Join': {'cost': 177421.05, 'rows': 23455},\n",
      "                           'Index Scan': {'cost': 0.09000000000000008,\n",
      "                                          'rows': 3},\n",
      "                           'Nested Loop': {'cost': 185102.24, 'rows': 22796},\n",
      "                           'Process Id': '8336',\n",
      "                           'Result': {'cost': 63149.92, 'rows': 12519},\n",
      "                           'Seq Scan': {'cost': 165783.65000000002,\n",
      "                                        'rows': 5042396},\n",
      "                           'Session Id': '597429f9.2090',\n",
      "                           'Session line': '15',\n",
      "                           'SetOp': {'cost': 158925.94, 'rows': 25038},\n",
      "                           'Sort': {'cost': 56.98999999999796, 'rows': 22796},\n",
      "                           'Subquery Scan': {'cost': 96482.32, 'rows': 35315},\n",
      "                           'Timestamp': '2017-07-23 12:46:50.557',\n",
      "                           'Unique': {'cost': 227.9599999999955, 'rows': 22796},\n",
      "                           'Username': 'sylver'},\n",
      " '8336_597429f9.2090_17': {'Aggregate': {'cost': 0.009999999980209395,\n",
      "                                         'rows': 1},\n",
      "                           'Append': {'cost': 157821.66, 'rows': 31682},\n",
      "                           'Application Name': 'psql',\n",
      "                           'Duration': '3816.585',\n",
      "                           'Hash': {'cost': 0.0, 'rows': 942},\n",
      "                           'Hash Join': {'cost': 177396.93, 'rows': 21043},\n",
      "                           'Index Scan': {'cost': 0.09000000000000008,\n",
      "                                          'rows': 3},\n",
      "                           'Nested Loop': {'cost': 184288.14, 'rows': 20451},\n",
      "                           'Process Id': '8336',\n",
      "                           'Result': {'cost': 62793.17, 'rows': 11231},\n",
      "                           'Seq Scan': {'cost': 165783.65000000002,\n",
      "                                        'rows': 5042288},\n",
      "                           'Session Id': '597429f9.2090',\n",
      "                           'Session line': '17',\n",
      "                           'SetOp': {'cost': 158059.28, 'rows': 22462},\n",
      "                           'Sort': {'cost': 51.13000000000466, 'rows': 20451},\n",
      "                           'Subquery Scan': {'cost': 95899.74999999999,\n",
      "                                             'rows': 31682},\n",
      "                           'Timestamp': '2017-07-23 12:46:54.454',\n",
      "                           'Unique': {'cost': 204.51000000000204,\n",
      "                                      'rows': 20451},\n",
      "                           'Username': 'sylver'},\n",
      " '8336_597429f9.2090_19': {'Aggregate': {'cost': 0.010000000009313226,\n",
      "                                         'rows': 1},\n",
      "                           'Append': {'cost': 158614.47, 'rows': 35114},\n",
      "                           'Application Name': 'psql',\n",
      "                           'Duration': '3807.003',\n",
      "                           'Hash': {'cost': 0.0, 'rows': 1044},\n",
      "                           'Hash Join': {'cost': 177419.73, 'rows': 23321},\n",
      "                           'Index Scan': {'cost': 0.09000000000000008,\n",
      "                                          'rows': 3},\n",
      "                           'Nested Loop': {'cost': 185056.98, 'rows': 22666},\n",
      "                           'Process Id': '8336',\n",
      "                           'Result': {'cost': 63130.19, 'rows': 12448},\n",
      "                           'Seq Scan': {'cost': 165783.65000000002,\n",
      "                                        'rows': 5042390},\n",
      "                           'Session Id': '597429f9.2090',\n",
      "                           'Session line': '19',\n",
      "                           'SetOp': {'cost': 158877.81999999998, 'rows': 24896},\n",
      "                           'Sort': {'cost': 56.669999999994616, 'rows': 22666},\n",
      "                           'Subquery Scan': {'cost': 96449.90999999999,\n",
      "                                             'rows': 35114},\n",
      "                           'Timestamp': '2017-07-23 12:46:58.336',\n",
      "                           'Unique': {'cost': 226.65999999999258,\n",
      "                                      'rows': 22666},\n",
      "                           'Username': 'sylver'},\n",
      " '8336_597429f9.2090_21': {'Aggregate': {'cost': 0.010000000009313226,\n",
      "                                         'rows': 1},\n",
      "                           'Append': {'cost': 157518.93000000002,\n",
      "                                      'rows': 30371},\n",
      "                           'Application Name': 'psql',\n",
      "                           'Duration': '3801.419',\n",
      "                           'Hash': {'cost': 0.0, 'rows': 903},\n",
      "                           'Hash Join': {'cost': 177388.22, 'rows': 20172},\n",
      "                           'Index Scan': {'cost': 0.09000000000000008,\n",
      "                                          'rows': 3},\n",
      "                           'Nested Loop': {'cost': 183994.14, 'rows': 19605},\n",
      "                           'Process Id': '8336',\n",
      "                           'Result': {'cost': 62664.53999999999, 'rows': 10766},\n",
      "                           'Seq Scan': {'cost': 165783.65000000002,\n",
      "                                        'rows': 5042249},\n",
      "                           'Session Id': '597429f9.2090',\n",
      "                           'Session line': '21',\n",
      "                           'SetOp': {'cost': 157746.71, 'rows': 21532},\n",
      "                           'Sort': {'cost': 49.000000000007276, 'rows': 19605},\n",
      "                           'Subquery Scan': {'cost': 95689.59000000001,\n",
      "                                             'rows': 30371},\n",
      "                           'Timestamp': '2017-07-23 12:47:02.213',\n",
      "                           'Unique': {'cost': 196.0500000000102, 'rows': 19605},\n",
      "                           'Username': 'sylver'},\n",
      " '8336_597429f9.2090_23': {'Aggregate': {'cost': 0.010000000009313226,\n",
      "                                         'rows': 1},\n",
      "                           'Append': {'cost': 158614.47, 'rows': 35114},\n",
      "                           'Application Name': 'psql',\n",
      "                           'Duration': '3806.453',\n",
      "                           'Hash': {'cost': 0.0, 'rows': 1044},\n",
      "                           'Hash Join': {'cost': 177419.73, 'rows': 23321},\n",
      "                           'Index Scan': {'cost': 0.09000000000000008,\n",
      "                                          'rows': 3},\n",
      "                           'Nested Loop': {'cost': 185056.98, 'rows': 22666},\n",
      "                           'Process Id': '8336',\n",
      "                           'Result': {'cost': 63130.19, 'rows': 12448},\n",
      "                           'Seq Scan': {'cost': 165783.65000000002,\n",
      "                                        'rows': 5042390},\n",
      "                           'Session Id': '597429f9.2090',\n",
      "                           'Session line': '23',\n",
      "                           'SetOp': {'cost': 158877.81999999998, 'rows': 24896},\n",
      "                           'Sort': {'cost': 56.669999999994616, 'rows': 22666},\n",
      "                           'Subquery Scan': {'cost': 96449.90999999999,\n",
      "                                             'rows': 35114},\n",
      "                           'Timestamp': '2017-07-23 12:47:06.084',\n",
      "                           'Unique': {'cost': 226.65999999999258,\n",
      "                                      'rows': 22666},\n",
      "                           'Username': 'sylver'},\n",
      " '8336_597429f9.2090_25': {'Aggregate': {'cost': 0.010000000009313226,\n",
      "                                         'rows': 1},\n",
      "                           'Append': {'cost': 158614.47, 'rows': 35114},\n",
      "                           'Application Name': 'psql',\n",
      "                           'Duration': '3768.815',\n",
      "                           'Hash': {'cost': 0.0, 'rows': 1044},\n",
      "                           'Hash Join': {'cost': 177419.73, 'rows': 23321},\n",
      "                           'Index Scan': {'cost': 0.09000000000000008,\n",
      "                                          'rows': 3},\n",
      "                           'Nested Loop': {'cost': 185056.98, 'rows': 22666},\n",
      "                           'Process Id': '8336',\n",
      "                           'Result': {'cost': 63130.19, 'rows': 12448},\n",
      "                           'Seq Scan': {'cost': 165783.65000000002,\n",
      "                                        'rows': 5042390},\n",
      "                           'Session Id': '597429f9.2090',\n",
      "                           'Session line': '25',\n",
      "                           'SetOp': {'cost': 158877.81999999998, 'rows': 24896},\n",
      "                           'Sort': {'cost': 56.669999999994616, 'rows': 22666},\n",
      "                           'Subquery Scan': {'cost': 96449.90999999999,\n",
      "                                             'rows': 35114},\n",
      "                           'Timestamp': '2017-07-23 12:47:09.912',\n",
      "                           'Unique': {'cost': 226.65999999999258,\n",
      "                                      'rows': 22666},\n",
      "                           'Username': 'sylver'},\n",
      " '8336_597429f9.2090_27': {'Aggregate': {'cost': 0.010000000009313226,\n",
      "                                         'rows': 1},\n",
      "                           'Append': {'cost': 157518.93000000002,\n",
      "                                      'rows': 30371},\n",
      "                           'Application Name': 'psql',\n",
      "                           'Duration': '3750.120',\n",
      "                           'Hash': {'cost': 0.0, 'rows': 903},\n",
      "                           'Hash Join': {'cost': 177388.22, 'rows': 20172},\n",
      "                           'Index Scan': {'cost': 0.09000000000000008,\n",
      "                                          'rows': 3},\n",
      "                           'Nested Loop': {'cost': 183994.14, 'rows': 19605},\n",
      "                           'Process Id': '8336',\n",
      "                           'Result': {'cost': 62664.53999999999, 'rows': 10766},\n",
      "                           'Seq Scan': {'cost': 165783.65000000002,\n",
      "                                        'rows': 5042249},\n",
      "                           'Session Id': '597429f9.2090',\n",
      "                           'Session line': '27',\n",
      "                           'SetOp': {'cost': 157746.71, 'rows': 21532},\n",
      "                           'Sort': {'cost': 49.000000000007276, 'rows': 19605},\n",
      "                           'Subquery Scan': {'cost': 95689.59000000001,\n",
      "                                             'rows': 30371},\n",
      "                           'Timestamp': '2017-07-23 12:47:13.721',\n",
      "                           'Unique': {'cost': 196.0500000000102, 'rows': 19605},\n",
      "                           'Username': 'sylver'},\n",
      " '8336_597429f9.2090_29': {'Aggregate': {'cost': 0.009999999980209395,\n",
      "                                         'rows': 1},\n",
      "                           'Append': {'cost': 157821.66, 'rows': 31682},\n",
      "                           'Application Name': 'psql',\n",
      "                           'Duration': '3769.430',\n",
      "                           'Hash': {'cost': 0.0, 'rows': 942},\n",
      "                           'Hash Join': {'cost': 177396.93, 'rows': 21043},\n",
      "                           'Index Scan': {'cost': 0.09000000000000008,\n",
      "                                          'rows': 3},\n",
      "                           'Nested Loop': {'cost': 184288.14, 'rows': 20451},\n",
      "                           'Process Id': '8336',\n",
      "                           'Result': {'cost': 62793.17, 'rows': 11231},\n",
      "                           'Seq Scan': {'cost': 165783.65000000002,\n",
      "                                        'rows': 5042288},\n",
      "                           'Session Id': '597429f9.2090',\n",
      "                           'Session line': '29',\n",
      "                           'SetOp': {'cost': 158059.28, 'rows': 22462},\n",
      "                           'Sort': {'cost': 51.13000000000466, 'rows': 20451},\n",
      "                           'Subquery Scan': {'cost': 95899.74999999999,\n",
      "                                             'rows': 31682},\n",
      "                           'Timestamp': '2017-07-23 12:47:17.550',\n",
      "                           'Unique': {'cost': 204.51000000000204,\n",
      "                                      'rows': 20451},\n",
      "                           'Username': 'sylver'},\n",
      " '8336_597429f9.2090_3': {'Aggregate': {'cost': 0.009999999980209395,\n",
      "                                        'rows': 1},\n",
      "                          'Append': {'cost': 157821.66, 'rows': 31682},\n",
      "                          'Application Name': 'psql',\n",
      "                          'Duration': '3695.561',\n",
      "                          'Hash': {'cost': 0.0, 'rows': 942},\n",
      "                          'Hash Join': {'cost': 177396.93, 'rows': 21043},\n",
      "                          'Index Scan': {'cost': 0.09000000000000008,\n",
      "                                         'rows': 3},\n",
      "                          'Nested Loop': {'cost': 184288.14, 'rows': 20451},\n",
      "                          'Process Id': '8336',\n",
      "                          'Result': {'cost': 62793.17, 'rows': 11231},\n",
      "                          'Seq Scan': {'cost': 165783.65000000002,\n",
      "                                       'rows': 5042288},\n",
      "                          'Session Id': '597429f9.2090',\n",
      "                          'Session line': '3',\n",
      "                          'SetOp': {'cost': 158059.28, 'rows': 22462},\n",
      "                          'Sort': {'cost': 51.13000000000466, 'rows': 20451},\n",
      "                          'Subquery Scan': {'cost': 95899.74999999999,\n",
      "                                            'rows': 31682},\n",
      "                          'Timestamp': '2017-07-23 12:46:27.287',\n",
      "                          'Unique': {'cost': 204.51000000000204, 'rows': 20451},\n",
      "                          'Username': 'sylver'},\n",
      " '8336_597429f9.2090_31': {'Aggregate': {'cost': 0.010000000009313226,\n",
      "                                         'rows': 1},\n",
      "                           'Append': {'cost': 157891.56, 'rows': 31986},\n",
      "                           'Application Name': 'psql',\n",
      "                           'Duration': '3823.385',\n",
      "                           'Hash': {'cost': 0.0, 'rows': 951},\n",
      "                           'Hash Join': {'cost': 177398.94, 'rows': 21244},\n",
      "                           'Index Scan': {'cost': 0.09000000000000008,\n",
      "                                          'rows': 3},\n",
      "                           'Nested Loop': {'cost': 184355.97, 'rows': 20647},\n",
      "                           'Process Id': '8336',\n",
      "                           'Result': {'cost': 62822.990000000005,\n",
      "                                      'rows': 11339},\n",
      "                           'Seq Scan': {'cost': 165783.65000000002,\n",
      "                                        'rows': 5042297},\n",
      "                           'Session Id': '597429f9.2090',\n",
      "                           'Session line': '31',\n",
      "                           'SetOp': {'cost': 158131.46, 'rows': 22678},\n",
      "                           'Sort': {'cost': 51.63000000000102, 'rows': 20647},\n",
      "                           'Subquery Scan': {'cost': 95948.19000000002,\n",
      "                                             'rows': 31986},\n",
      "                           'Timestamp': '2017-07-23 12:47:21.433',\n",
      "                           'Unique': {'cost': 206.47000000000116,\n",
      "                                      'rows': 20647},\n",
      "                           'Username': 'sylver'},\n",
      " '8336_597429f9.2090_33': {'Aggregate': {'cost': 0.010000000009313226,\n",
      "                                         'rows': 1},\n",
      "                           'Append': {'cost': 158825.1, 'rows': 36023},\n",
      "                           'Application Name': 'psql',\n",
      "                           'Duration': '3751.299',\n",
      "                           'Hash': {'cost': 0.0, 'rows': 1071},\n",
      "                           'Hash Join': {'cost': 177425.75, 'rows': 23925},\n",
      "                           'Index Scan': {'cost': 0.09000000000000008,\n",
      "                                          'rows': 3},\n",
      "                           'Nested Loop': {'cost': 185260.86, 'rows': 23253},\n",
      "                           'Process Id': '8336',\n",
      "                           'Result': {'cost': 63219.65000000001, 'rows': 12770},\n",
      "                           'Seq Scan': {'cost': 165783.65000000002,\n",
      "                                        'rows': 5042417},\n",
      "                           'Session Id': '597429f9.2090',\n",
      "                           'Session line': '33',\n",
      "                           'SetOp': {'cost': 159095.28, 'rows': 25540},\n",
      "                           'Sort': {'cost': 58.13000000000102, 'rows': 23253},\n",
      "                           'Subquery Scan': {'cost': 96596.09000000003,\n",
      "                                             'rows': 36023},\n",
      "                           'Timestamp': '2017-07-23 12:47:25.252',\n",
      "                           'Unique': {'cost': 232.53000000000247,\n",
      "                                      'rows': 23253},\n",
      "                           'Username': 'sylver'},\n",
      " '8336_597429f9.2090_35': {'Aggregate': {'cost': 0.010000000009313226,\n",
      "                                         'rows': 1},\n",
      "                           'Append': {'cost': 158614.47, 'rows': 35114},\n",
      "                           'Application Name': 'psql',\n",
      "                           'Duration': '3748.933',\n",
      "                           'Hash': {'cost': 0.0, 'rows': 1044},\n",
      "                           'Hash Join': {'cost': 177419.73, 'rows': 23321},\n",
      "                           'Index Scan': {'cost': 0.09000000000000008,\n",
      "                                          'rows': 3},\n",
      "                           'Nested Loop': {'cost': 185056.98, 'rows': 22666},\n",
      "                           'Process Id': '8336',\n",
      "                           'Result': {'cost': 63130.19, 'rows': 12448},\n",
      "                           'Seq Scan': {'cost': 165783.65000000002,\n",
      "                                        'rows': 5042390},\n",
      "                           'Session Id': '597429f9.2090',\n",
      "                           'Session line': '35',\n",
      "                           'SetOp': {'cost': 158877.81999999998, 'rows': 24896},\n",
      "                           'Sort': {'cost': 56.669999999994616, 'rows': 22666},\n",
      "                           'Subquery Scan': {'cost': 96449.90999999999,\n",
      "                                             'rows': 35114},\n",
      "                           'Timestamp': '2017-07-23 12:47:29.060',\n",
      "                           'Unique': {'cost': 226.65999999999258,\n",
      "                                      'rows': 22666},\n",
      "                           'Username': 'sylver'},\n",
      " '8336_597429f9.2090_37': {'Aggregate': {'cost': 0.010000000009313226,\n",
      "                                         'rows': 1},\n",
      "                           'Append': {'cost': 158848.02, 'rows': 36124},\n",
      "                           'Application Name': 'psql',\n",
      "                           'Duration': '3733.512',\n",
      "                           'Hash': {'cost': 0.0, 'rows': 1074},\n",
      "                           'Hash Join': {'cost': 177426.41999999998,\n",
      "                                         'rows': 23992},\n",
      "                           'Index Scan': {'cost': 0.09000000000000008,\n",
      "                                          'rows': 3},\n",
      "                           'Nested Loop': {'cost': 185283.48, 'rows': 23318},\n",
      "                           'Process Id': '8336',\n",
      "                           'Result': {'cost': 63229.32000000001, 'rows': 12806},\n",
      "                           'Seq Scan': {'cost': 165783.65000000002,\n",
      "                                        'rows': 5042420},\n",
      "                           'Session Id': '597429f9.2090',\n",
      "                           'Session line': '37',\n",
      "                           'SetOp': {'cost': 159118.95, 'rows': 25612},\n",
      "                           'Sort': {'cost': 58.299999999991996, 'rows': 23318},\n",
      "                           'Subquery Scan': {'cost': 96612.11, 'rows': 36124},\n",
      "                           'Timestamp': '2017-07-23 12:47:32.853',\n",
      "                           'Unique': {'cost': 233.17999999999665,\n",
      "                                      'rows': 23318},\n",
      "                           'Username': 'sylver'},\n",
      " '8336_597429f9.2090_39': {'Aggregate': {'cost': 0.009999999980209395,\n",
      "                                         'rows': 1},\n",
      "                           'Append': {'cost': 157821.66, 'rows': 31682},\n",
      "                           'Application Name': 'psql',\n",
      "                           'Duration': '3745.279',\n",
      "                           'Hash': {'cost': 0.0, 'rows': 942},\n",
      "                           'Hash Join': {'cost': 177396.93, 'rows': 21043},\n",
      "                           'Index Scan': {'cost': 0.09000000000000008,\n",
      "                                          'rows': 3},\n",
      "                           'Nested Loop': {'cost': 184288.14, 'rows': 20451},\n",
      "                           'Process Id': '8336',\n",
      "                           'Result': {'cost': 62793.17, 'rows': 11231},\n",
      "                           'Seq Scan': {'cost': 165783.65000000002,\n",
      "                                        'rows': 5042288},\n",
      "                           'Session Id': '597429f9.2090',\n",
      "                           'Session line': '39',\n",
      "                           'SetOp': {'cost': 158059.28, 'rows': 22462},\n",
      "                           'Sort': {'cost': 51.13000000000466, 'rows': 20451},\n",
      "                           'Subquery Scan': {'cost': 95899.74999999999,\n",
      "                                             'rows': 31682},\n",
      "                           'Timestamp': '2017-07-23 12:47:36.657',\n",
      "                           'Unique': {'cost': 204.51000000000204,\n",
      "                                      'rows': 20451},\n",
      "                           'Username': 'sylver'},\n",
      " '8336_597429f9.2090_41': {'Aggregate': {'cost': 0.010000000009313226,\n",
      "                                         'rows': 1},\n",
      "                           'Append': {'cost': 157518.93000000002,\n",
      "                                      'rows': 30371},\n",
      "                           'Application Name': 'psql',\n",
      "                           'Duration': '3743.833',\n",
      "                           'Hash': {'cost': 0.0, 'rows': 903},\n",
      "                           'Hash Join': {'cost': 177388.22, 'rows': 20172},\n",
      "                           'Index Scan': {'cost': 0.09000000000000008,\n",
      "                                          'rows': 3},\n",
      "                           'Nested Loop': {'cost': 183994.14, 'rows': 19605},\n",
      "                           'Process Id': '8336',\n",
      "                           'Result': {'cost': 62664.53999999999, 'rows': 10766},\n",
      "                           'Seq Scan': {'cost': 165783.65000000002,\n",
      "                                        'rows': 5042249},\n",
      "                           'Session Id': '597429f9.2090',\n",
      "                           'Session line': '41',\n",
      "                           'SetOp': {'cost': 157746.71, 'rows': 21532},\n",
      "                           'Sort': {'cost': 49.000000000007276, 'rows': 19605},\n",
      "                           'Subquery Scan': {'cost': 95689.59000000001,\n",
      "                                             'rows': 30371},\n",
      "                           'Timestamp': '2017-07-23 12:47:40.460',\n",
      "                           'Unique': {'cost': 196.0500000000102, 'rows': 19605},\n",
      "                           'Username': 'sylver'},\n",
      " '8336_597429f9.2090_43': {'Aggregate': {'cost': 0.010000000009313226,\n",
      "                                         'rows': 1},\n",
      "                           'Append': {'cost': 157518.93000000002,\n",
      "                                      'rows': 30371},\n",
      "                           'Application Name': 'psql',\n",
      "                           'Duration': '3760.790',\n",
      "                           'Hash': {'cost': 0.0, 'rows': 903},\n",
      "                           'Hash Join': {'cost': 177388.22, 'rows': 20172},\n",
      "                           'Index Scan': {'cost': 0.09000000000000008,\n",
      "                                          'rows': 3},\n",
      "                           'Nested Loop': {'cost': 183994.14, 'rows': 19605},\n",
      "                           'Process Id': '8336',\n",
      "                           'Result': {'cost': 62664.53999999999, 'rows': 10766},\n",
      "                           'Seq Scan': {'cost': 165783.65000000002,\n",
      "                                        'rows': 5042249},\n",
      "                           'Session Id': '597429f9.2090',\n",
      "                           'Session line': '43',\n",
      "                           'SetOp': {'cost': 157746.71, 'rows': 21532},\n",
      "                           'Sort': {'cost': 49.000000000007276, 'rows': 19605},\n",
      "                           'Subquery Scan': {'cost': 95689.59000000001,\n",
      "                                             'rows': 30371},\n",
      "                           'Timestamp': '2017-07-23 12:47:44.280',\n",
      "                           'Unique': {'cost': 196.0500000000102, 'rows': 19605},\n",
      "                           'Username': 'sylver'},\n",
      " '8336_597429f9.2090_45': {'Aggregate': {'cost': 0.010000000009313226,\n",
      "                                         'rows': 1},\n",
      "                           'Append': {'cost': 158778.42, 'rows': 35820},\n",
      "                           'Application Name': 'psql',\n",
      "                           'Duration': '3756.539',\n",
      "                           'Hash': {'cost': 0.0, 'rows': 1065},\n",
      "                           'Hash Join': {'cost': 177424.43, 'rows': 23791},\n",
      "                           'Index Scan': {'cost': 0.09000000000000008,\n",
      "                                          'rows': 3},\n",
      "                           'Nested Loop': {'cost': 185215.63999999998,\n",
      "                                           'rows': 23122},\n",
      "                           'Process Id': '8336',\n",
      "                           'Result': {'cost': 63199.87000000001, 'rows': 12698},\n",
      "                           'Seq Scan': {'cost': 165783.65000000002,\n",
      "                                        'rows': 5042411},\n",
      "                           'Session Id': '597429f9.2090',\n",
      "                           'Session line': '45',\n",
      "                           'SetOp': {'cost': 159047.06, 'rows': 25396},\n",
      "                           'Sort': {'cost': 57.79000000000451, 'rows': 23122},\n",
      "                           'Subquery Scan': {'cost': 96563.59000000001,\n",
      "                                             'rows': 35820},\n",
      "                           'Timestamp': '2017-07-23 12:47:48.095',\n",
      "                           'Unique': {'cost': 231.22000000000116,\n",
      "                                      'rows': 23122},\n",
      "                           'Username': 'sylver'},\n",
      " '8336_597429f9.2090_47': {'Aggregate': {'cost': 0.010000000009313226,\n",
      "                                         'rows': 1},\n",
      "                           'Append': {'cost': 157891.56, 'rows': 31986},\n",
      "                           'Application Name': 'psql',\n",
      "                           'Duration': '3839.521',\n",
      "                           'Hash': {'cost': 0.0, 'rows': 951},\n",
      "                           'Hash Join': {'cost': 177398.94, 'rows': 21244},\n",
      "                           'Index Scan': {'cost': 0.09000000000000008,\n",
      "                                          'rows': 3},\n",
      "                           'Nested Loop': {'cost': 184355.97, 'rows': 20647},\n",
      "                           'Process Id': '8336',\n",
      "                           'Result': {'cost': 62822.990000000005,\n",
      "                                      'rows': 11339},\n",
      "                           'Seq Scan': {'cost': 165783.65000000002,\n",
      "                                        'rows': 5042297},\n",
      "                           'Session Id': '597429f9.2090',\n",
      "                           'Session line': '47',\n",
      "                           'SetOp': {'cost': 158131.46, 'rows': 22678},\n",
      "                           'Sort': {'cost': 51.63000000000102, 'rows': 20647},\n",
      "                           'Subquery Scan': {'cost': 95948.19000000002,\n",
      "                                             'rows': 31986},\n",
      "                           'Timestamp': '2017-07-23 12:47:51.995',\n",
      "                           'Unique': {'cost': 206.47000000000116,\n",
      "                                      'rows': 20647},\n",
      "                           'Username': 'sylver'},\n",
      " '8336_597429f9.2090_49': {'Aggregate': {'cost': 0.009999999980209395,\n",
      "                                         'rows': 1},\n",
      "                           'Append': {'cost': 159760.16999999998,\n",
      "                                      'rows': 40058},\n",
      "                           'Application Name': 'psql',\n",
      "                           'Duration': '3784.244',\n",
      "                           'Hash': {'cost': 0.0, 'rows': 1191},\n",
      "                           'Hash Join': {'cost': 177452.56, 'rows': 26606},\n",
      "                           'Index Scan': {'cost': 0.09000000000000008,\n",
      "                                          'rows': 3},\n",
      "                           'Nested Loop': {'cost': 186165.75999999998,\n",
      "                                           'rows': 25858},\n",
      "                           'Process Id': '8336',\n",
      "                           'Result': {'cost': 63616.899999999994,\n",
      "                                      'rows': 14200},\n",
      "                           'Seq Scan': {'cost': 165783.65000000002,\n",
      "                                        'rows': 5042537},\n",
      "                           'Session Id': '597429f9.2090',\n",
      "                           'Session line': '49',\n",
      "                           'SetOp': {'cost': 160060.6, 'rows': 28400},\n",
      "                           'Sort': {'cost': 64.64999999999782, 'rows': 25858},\n",
      "                           'Subquery Scan': {'cost': 97244.86, 'rows': 40058},\n",
      "                           'Timestamp': '2017-07-23 12:47:55.839',\n",
      "                           'Unique': {'cost': 258.58000000000175,\n",
      "                                      'rows': 25858},\n",
      "                           'Username': 'sylver'},\n",
      " '8336_597429f9.2090_5': {'Aggregate': {'cost': 0.010000000009313226,\n",
      "                                        'rows': 1},\n",
      "                          'Append': {'cost': 158848.02, 'rows': 36124},\n",
      "                          'Application Name': 'psql',\n",
      "                          'Duration': '3685.788',\n",
      "                          'Hash': {'cost': 0.0, 'rows': 1074},\n",
      "                          'Hash Join': {'cost': 177426.41999999998,\n",
      "                                        'rows': 23992},\n",
      "                          'Index Scan': {'cost': 0.09000000000000008,\n",
      "                                         'rows': 3},\n",
      "                          'Nested Loop': {'cost': 185283.48, 'rows': 23318},\n",
      "                          'Process Id': '8336',\n",
      "                          'Result': {'cost': 63229.32000000001, 'rows': 12806},\n",
      "                          'Seq Scan': {'cost': 165783.65000000002,\n",
      "                                       'rows': 5042420},\n",
      "                          'Session Id': '597429f9.2090',\n",
      "                          'Session line': '5',\n",
      "                          'SetOp': {'cost': 159118.95, 'rows': 25612},\n",
      "                          'Sort': {'cost': 58.299999999991996, 'rows': 23318},\n",
      "                          'Subquery Scan': {'cost': 96612.11, 'rows': 36124},\n",
      "                          'Timestamp': '2017-07-23 12:46:31.101',\n",
      "                          'Unique': {'cost': 233.17999999999665, 'rows': 23318},\n",
      "                          'Username': 'sylver'},\n",
      " '8336_597429f9.2090_51': {'Aggregate': {'cost': 0.010000000009313226,\n",
      "                                         'rows': 1},\n",
      "                           'Append': {'cost': 157518.93000000002,\n",
      "                                      'rows': 30371},\n",
      "                           'Application Name': 'psql',\n",
      "                           'Duration': '3753.890',\n",
      "                           'Hash': {'cost': 0.0, 'rows': 903},\n",
      "                           'Hash Join': {'cost': 177388.22, 'rows': 20172},\n",
      "                           'Index Scan': {'cost': 0.09000000000000008,\n",
      "                                          'rows': 3},\n",
      "                           'Nested Loop': {'cost': 183994.14, 'rows': 19605},\n",
      "                           'Process Id': '8336',\n",
      "                           'Result': {'cost': 62664.53999999999, 'rows': 10766},\n",
      "                           'Seq Scan': {'cost': 165783.65000000002,\n",
      "                                        'rows': 5042249},\n",
      "                           'Session Id': '597429f9.2090',\n",
      "                           'Session line': '51',\n",
      "                           'SetOp': {'cost': 157746.71, 'rows': 21532},\n",
      "                           'Sort': {'cost': 49.000000000007276, 'rows': 19605},\n",
      "                           'Subquery Scan': {'cost': 95689.59000000001,\n",
      "                                             'rows': 30371},\n",
      "                           'Timestamp': '2017-07-23 12:47:59.652',\n",
      "                           'Unique': {'cost': 196.0500000000102, 'rows': 19605},\n",
      "                           'Username': 'sylver'},\n",
      " '8336_597429f9.2090_53': {'Aggregate': {'cost': 0.010000000009313226,\n",
      "                                         'rows': 1},\n",
      "                           'Append': {'cost': 157891.56, 'rows': 31986},\n",
      "                           'Application Name': 'psql',\n",
      "                           'Duration': '3799.981',\n",
      "                           'Hash': {'cost': 0.0, 'rows': 951},\n",
      "                           'Hash Join': {'cost': 177398.94, 'rows': 21244},\n",
      "                           'Index Scan': {'cost': 0.09000000000000008,\n",
      "                                          'rows': 3},\n",
      "                           'Nested Loop': {'cost': 184355.97, 'rows': 20647},\n",
      "                           'Process Id': '8336',\n",
      "                           'Result': {'cost': 62822.990000000005,\n",
      "                                      'rows': 11339},\n",
      "                           'Seq Scan': {'cost': 165783.65000000002,\n",
      "                                        'rows': 5042297},\n",
      "                           'Session Id': '597429f9.2090',\n",
      "                           'Session line': '53',\n",
      "                           'SetOp': {'cost': 158131.46, 'rows': 22678},\n",
      "                           'Sort': {'cost': 51.63000000000102, 'rows': 20647},\n",
      "                           'Subquery Scan': {'cost': 95948.19000000002,\n",
      "                                             'rows': 31986},\n",
      "                           'Timestamp': '2017-07-23 12:48:03.511',\n",
      "                           'Unique': {'cost': 206.47000000000116,\n",
      "                                      'rows': 20647},\n",
      "                           'Username': 'sylver'},\n",
      " '8336_597429f9.2090_55': {'Aggregate': {'cost': 0.010000000009313226,\n",
      "                                         'rows': 1},\n",
      "                           'Append': {'cost': 158848.02, 'rows': 36124},\n",
      "                           'Application Name': 'psql',\n",
      "                           'Duration': '3653.349',\n",
      "                           'Hash': {'cost': 0.0, 'rows': 1074},\n",
      "                           'Hash Join': {'cost': 177426.41999999998,\n",
      "                                         'rows': 23992},\n",
      "                           'Index Scan': {'cost': 0.09000000000000008,\n",
      "                                          'rows': 3},\n",
      "                           'Nested Loop': {'cost': 185283.48, 'rows': 23318},\n",
      "                           'Process Id': '8336',\n",
      "                           'Result': {'cost': 63229.32000000001, 'rows': 12806},\n",
      "                           'Seq Scan': {'cost': 165783.65000000002,\n",
      "                                        'rows': 5042420},\n",
      "                           'Session Id': '597429f9.2090',\n",
      "                           'Session line': '55',\n",
      "                           'SetOp': {'cost': 159118.95, 'rows': 25612},\n",
      "                           'Sort': {'cost': 58.299999999991996, 'rows': 23318},\n",
      "                           'Subquery Scan': {'cost': 96612.11, 'rows': 36124},\n",
      "                           'Timestamp': '2017-07-23 12:48:07.225',\n",
      "                           'Unique': {'cost': 233.17999999999665,\n",
      "                                      'rows': 23318},\n",
      "                           'Username': 'sylver'},\n",
      " '8336_597429f9.2090_57': {'Aggregate': {'cost': 0.010000000009313226,\n",
      "                                         'rows': 1},\n",
      "                           'Append': {'cost': 158965.34, 'rows': 36627},\n",
      "                           'Application Name': 'psql',\n",
      "                           'Duration': '3647.093',\n",
      "                           'Hash': {'cost': 0.0, 'rows': 1089},\n",
      "                           'Hash Join': {'cost': 177429.78999999998,\n",
      "                                         'rows': 24327},\n",
      "                           'Index Scan': {'cost': 0.09000000000000008,\n",
      "                                          'rows': 3},\n",
      "                           'Nested Loop': {'cost': 185396.57, 'rows': 23643},\n",
      "                           'Process Id': '8336',\n",
      "                           'Result': {'cost': 63279.25, 'rows': 12984},\n",
      "                           'Seq Scan': {'cost': 165783.65000000002,\n",
      "                                        'rows': 5042435},\n",
      "                           'Session Id': '597429f9.2090',\n",
      "                           'Session line': '57',\n",
      "                           'SetOp': {'cost': 159240.04, 'rows': 25968},\n",
      "                           'Sort': {'cost': 59.11000000000786, 'rows': 23643},\n",
      "                           'Subquery Scan': {'cost': 96693.33000000002,\n",
      "                                             'rows': 36627},\n",
      "                           'Timestamp': '2017-07-23 12:48:10.932',\n",
      "                           'Unique': {'cost': 236.43000000001484,\n",
      "                                      'rows': 23643},\n",
      "                           'Username': 'sylver'},\n",
      " '8336_597429f9.2090_59': {'Aggregate': {'cost': 0.010000000009313226,\n",
      "                                         'rows': 1},\n",
      "                           'Append': {'cost': 157938.11, 'rows': 32187},\n",
      "                           'Application Name': 'psql',\n",
      "                           'Duration': '3657.830',\n",
      "                           'Hash': {'cost': 0.0, 'rows': 957},\n",
      "                           'Hash Join': {'cost': 177400.30000000002,\n",
      "                                         'rows': 21378},\n",
      "                           'Index Scan': {'cost': 0.09000000000000008,\n",
      "                                          'rows': 3},\n",
      "                           'Nested Loop': {'cost': 184401.21, 'rows': 20777},\n",
      "                           'Process Id': '8336',\n",
      "                           'Result': {'cost': 62842.69999999998, 'rows': 11410},\n",
      "                           'Seq Scan': {'cost': 165783.65000000002,\n",
      "                                        'rows': 5042303},\n",
      "                           'Session Id': '597429f9.2090',\n",
      "                           'Session line': '59',\n",
      "                           'SetOp': {'cost': 158179.52, 'rows': 22820},\n",
      "                           'Sort': {'cost': 51.939999999987776, 'rows': 20777},\n",
      "                           'Subquery Scan': {'cost': 95980.55999999998,\n",
      "                                             'rows': 32187},\n",
      "                           'Timestamp': '2017-07-23 12:48:14.650',\n",
      "                           'Unique': {'cost': 207.76999999998952,\n",
      "                                      'rows': 20777},\n",
      "                           'Username': 'sylver'},\n",
      " '8336_597429f9.2090_61': {'Aggregate': {'cost': 0.010000000009313226,\n",
      "                                         'rows': 1},\n",
      "                           'Append': {'cost': 157891.56, 'rows': 31986},\n",
      "                           'Application Name': 'psql',\n",
      "                           'Duration': '3738.667',\n",
      "                           'Hash': {'cost': 0.0, 'rows': 951},\n",
      "                           'Hash Join': {'cost': 177398.94, 'rows': 21244},\n",
      "                           'Index Scan': {'cost': 0.09000000000000008,\n",
      "                                          'rows': 3},\n",
      "                           'Nested Loop': {'cost': 184355.97, 'rows': 20647},\n",
      "                           'Process Id': '8336',\n",
      "                           'Result': {'cost': 62822.990000000005,\n",
      "                                      'rows': 11339},\n",
      "                           'Seq Scan': {'cost': 165783.65000000002,\n",
      "                                        'rows': 5042297},\n",
      "                           'Session Id': '597429f9.2090',\n",
      "                           'Session line': '61',\n",
      "                           'SetOp': {'cost': 158131.46, 'rows': 22678},\n",
      "                           'Sort': {'cost': 51.63000000000102, 'rows': 20647},\n",
      "                           'Subquery Scan': {'cost': 95948.19000000002,\n",
      "                                             'rows': 31986},\n",
      "                           'Timestamp': '2017-07-23 12:48:18.450',\n",
      "                           'Unique': {'cost': 206.47000000000116,\n",
      "                                      'rows': 20647},\n",
      "                           'Username': 'sylver'},\n",
      " '8336_597429f9.2090_63': {'Aggregate': {'cost': 0.009999999980209395,\n",
      "                                         'rows': 1},\n",
      "                           'Append': {'cost': 159760.16999999998,\n",
      "                                      'rows': 40058},\n",
      "                           'Application Name': 'psql',\n",
      "                           'Duration': '3688.677',\n",
      "                           'Hash': {'cost': 0.0, 'rows': 1191},\n",
      "                           'Hash Join': {'cost': 177452.56, 'rows': 26606},\n",
      "                           'Index Scan': {'cost': 0.09000000000000008,\n",
      "                                          'rows': 3},\n",
      "                           'Nested Loop': {'cost': 186165.75999999998,\n",
      "                                           'rows': 25858},\n",
      "                           'Process Id': '8336',\n",
      "                           'Result': {'cost': 63616.899999999994,\n",
      "                                      'rows': 14200},\n",
      "                           'Seq Scan': {'cost': 165783.65000000002,\n",
      "                                        'rows': 5042537},\n",
      "                           'Session Id': '597429f9.2090',\n",
      "                           'Session line': '63',\n",
      "                           'SetOp': {'cost': 160060.6, 'rows': 28400},\n",
      "                           'Sort': {'cost': 64.64999999999782, 'rows': 25858},\n",
      "                           'Subquery Scan': {'cost': 97244.86, 'rows': 40058},\n",
      "                           'Timestamp': '2017-07-23 12:48:22.205',\n",
      "                           'Unique': {'cost': 258.58000000000175,\n",
      "                                      'rows': 25858},\n",
      "                           'Username': 'sylver'},\n",
      " '8336_597429f9.2090_65': {'Aggregate': {'cost': 0.010000000009313226,\n",
      "                                         'rows': 1},\n",
      "                           'Append': {'cost': 157518.93000000002,\n",
      "                                      'rows': 30371},\n",
      "                           'Application Name': 'psql',\n",
      "                           'Duration': '3669.886',\n",
      "                           'Hash': {'cost': 0.0, 'rows': 903},\n",
      "                           'Hash Join': {'cost': 177388.22, 'rows': 20172},\n",
      "                           'Index Scan': {'cost': 0.09000000000000008,\n",
      "                                          'rows': 3},\n",
      "                           'Nested Loop': {'cost': 183994.14, 'rows': 19605},\n",
      "                           'Process Id': '8336',\n",
      "                           'Result': {'cost': 62664.53999999999, 'rows': 10766},\n",
      "                           'Seq Scan': {'cost': 165783.65000000002,\n",
      "                                        'rows': 5042249},\n",
      "                           'Session Id': '597429f9.2090',\n",
      "                           'Session line': '65',\n",
      "                           'SetOp': {'cost': 157746.71, 'rows': 21532},\n",
      "                           'Sort': {'cost': 49.000000000007276, 'rows': 19605},\n",
      "                           'Subquery Scan': {'cost': 95689.59000000001,\n",
      "                                             'rows': 30371},\n",
      "                           'Timestamp': '2017-07-23 12:48:25.936',\n",
      "                           'Unique': {'cost': 196.0500000000102, 'rows': 19605},\n",
      "                           'Username': 'sylver'},\n",
      " '8336_597429f9.2090_67': {'Aggregate': {'cost': 0.010000000009313226,\n",
      "                                         'rows': 1},\n",
      "                           'Append': {'cost': 158848.02, 'rows': 36124},\n",
      "                           'Application Name': 'psql',\n",
      "                           'Duration': '3639.954',\n",
      "                           'Hash': {'cost': 0.0, 'rows': 1074},\n",
      "                           'Hash Join': {'cost': 177426.41999999998,\n",
      "                                         'rows': 23992},\n",
      "                           'Index Scan': {'cost': 0.09000000000000008,\n",
      "                                          'rows': 3},\n",
      "                           'Nested Loop': {'cost': 185283.48, 'rows': 23318},\n",
      "                           'Process Id': '8336',\n",
      "                           'Result': {'cost': 63229.32000000001, 'rows': 12806},\n",
      "                           'Seq Scan': {'cost': 165783.65000000002,\n",
      "                                        'rows': 5042420},\n",
      "                           'Session Id': '597429f9.2090',\n",
      "                           'Session line': '67',\n",
      "                           'SetOp': {'cost': 159118.95, 'rows': 25612},\n",
      "                           'Sort': {'cost': 58.299999999991996, 'rows': 23318},\n",
      "                           'Subquery Scan': {'cost': 96612.11, 'rows': 36124},\n",
      "                           'Timestamp': '2017-07-23 12:48:29.636',\n",
      "                           'Unique': {'cost': 233.17999999999665,\n",
      "                                      'rows': 23318},\n",
      "                           'Username': 'sylver'},\n",
      " '8336_597429f9.2090_69': {'Aggregate': {'cost': 0.010000000009313226,\n",
      "                                         'rows': 1},\n",
      "                           'Append': {'cost': 157891.56, 'rows': 31986},\n",
      "                           'Application Name': 'psql',\n",
      "                           'Duration': '3737.490',\n",
      "                           'Hash': {'cost': 0.0, 'rows': 951},\n",
      "                           'Hash Join': {'cost': 177398.94, 'rows': 21244},\n",
      "                           'Index Scan': {'cost': 0.09000000000000008,\n",
      "                                          'rows': 3},\n",
      "                           'Nested Loop': {'cost': 184355.97, 'rows': 20647},\n",
      "                           'Process Id': '8336',\n",
      "                           'Result': {'cost': 62822.990000000005,\n",
      "                                      'rows': 11339},\n",
      "                           'Seq Scan': {'cost': 165783.65000000002,\n",
      "                                        'rows': 5042297},\n",
      "                           'Session Id': '597429f9.2090',\n",
      "                           'Session line': '69',\n",
      "                           'SetOp': {'cost': 158131.46, 'rows': 22678},\n",
      "                           'Sort': {'cost': 51.63000000000102, 'rows': 20647},\n",
      "                           'Subquery Scan': {'cost': 95948.19000000002,\n",
      "                                             'rows': 31986},\n",
      "                           'Timestamp': '2017-07-23 12:48:33.435',\n",
      "                           'Unique': {'cost': 206.47000000000116,\n",
      "                                      'rows': 20647},\n",
      "                           'Username': 'sylver'},\n",
      " '8336_597429f9.2090_7': {'Aggregate': {'cost': 0.010000000009313226,\n",
      "                                        'rows': 1},\n",
      "                          'Append': {'cost': 158871.76, 'rows': 36224},\n",
      "                          'Application Name': 'psql',\n",
      "                          'Duration': '3723.812',\n",
      "                          'Hash': {'cost': 0.0, 'rows': 1077},\n",
      "                          'Hash Join': {'cost': 177427.11, 'rows': 24059},\n",
      "                          'Index Scan': {'cost': 0.09000000000000008,\n",
      "                                         'rows': 3},\n",
      "                          'Nested Loop': {'cost': 185306.11000000002,\n",
      "                                          'rows': 23383},\n",
      "                          'Process Id': '8336',\n",
      "                          'Result': {'cost': 63239.390000000014, 'rows': 12841},\n",
      "                          'Seq Scan': {'cost': 165783.65000000002,\n",
      "                                       'rows': 5042423},\n",
      "                          'Session Id': '597429f9.2090',\n",
      "                          'Session line': '7',\n",
      "                          'SetOp': {'cost': 159143.43000000002, 'rows': 25682},\n",
      "                          'Sort': {'cost': 58.469999999997526, 'rows': 23383},\n",
      "                          'Subquery Scan': {'cost': 96628.52000000002,\n",
      "                                            'rows': 36224},\n",
      "                          'Timestamp': '2017-07-23 12:46:34.947',\n",
      "                          'Unique': {'cost': 233.83000000000538, 'rows': 23383},\n",
      "                          'Username': 'sylver'},\n",
      " '8336_597429f9.2090_71': {'Aggregate': {'cost': 0.010000000009313226,\n",
      "                                         'rows': 1},\n",
      "                           'Append': {'cost': 158778.42, 'rows': 35820},\n",
      "                           'Application Name': 'psql',\n",
      "                           'Duration': '3650.528',\n",
      "                           'Hash': {'cost': 0.0, 'rows': 1065},\n",
      "                           'Hash Join': {'cost': 177424.43, 'rows': 23791},\n",
      "                           'Index Scan': {'cost': 0.09000000000000008,\n",
      "                                          'rows': 3},\n",
      "                           'Nested Loop': {'cost': 185215.63999999998,\n",
      "                                           'rows': 23122},\n",
      "                           'Process Id': '8336',\n",
      "                           'Result': {'cost': 63199.87000000001, 'rows': 12698},\n",
      "                           'Seq Scan': {'cost': 165783.65000000002,\n",
      "                                        'rows': 5042411},\n",
      "                           'Session Id': '597429f9.2090',\n",
      "                           'Session line': '71',\n",
      "                           'SetOp': {'cost': 159047.06, 'rows': 25396},\n",
      "                           'Sort': {'cost': 57.79000000000451, 'rows': 23122},\n",
      "                           'Subquery Scan': {'cost': 96563.59000000001,\n",
      "                                             'rows': 35820},\n",
      "                           'Timestamp': '2017-07-23 12:48:37.146',\n",
      "                           'Unique': {'cost': 231.22000000000116,\n",
      "                                      'rows': 23122},\n",
      "                           'Username': 'sylver'},\n",
      " '8336_597429f9.2090_73': {'Aggregate': {'cost': 0.010000000009313226,\n",
      "                                         'rows': 1},\n",
      "                           'Append': {'cost': 157518.93000000002,\n",
      "                                      'rows': 30371},\n",
      "                           'Application Name': 'psql',\n",
      "                           'Duration': '3671.260',\n",
      "                           'Hash': {'cost': 0.0, 'rows': 903},\n",
      "                           'Hash Join': {'cost': 177388.22, 'rows': 20172},\n",
      "                           'Index Scan': {'cost': 0.09000000000000008,\n",
      "                                          'rows': 3},\n",
      "                           'Nested Loop': {'cost': 183994.14, 'rows': 19605},\n",
      "                           'Process Id': '8336',\n",
      "                           'Result': {'cost': 62664.53999999999, 'rows': 10766},\n",
      "                           'Seq Scan': {'cost': 165783.65000000002,\n",
      "                                        'rows': 5042249},\n",
      "                           'Session Id': '597429f9.2090',\n",
      "                           'Session line': '73',\n",
      "                           'SetOp': {'cost': 157746.71, 'rows': 21532},\n",
      "                           'Sort': {'cost': 49.000000000007276, 'rows': 19605},\n",
      "                           'Subquery Scan': {'cost': 95689.59000000001,\n",
      "                                             'rows': 30371},\n",
      "                           'Timestamp': '2017-07-23 12:48:40.877',\n",
      "                           'Unique': {'cost': 196.0500000000102, 'rows': 19605},\n",
      "                           'Username': 'sylver'},\n",
      " '8336_597429f9.2090_75': {'Aggregate': {'cost': 0.010000000009313226,\n",
      "                                         'rows': 1},\n",
      "                           'Append': {'cost': 158778.42, 'rows': 35820},\n",
      "                           'Application Name': 'psql',\n",
      "                           'Duration': '3670.795',\n",
      "                           'Hash': {'cost': 0.0, 'rows': 1065},\n",
      "                           'Hash Join': {'cost': 177424.43, 'rows': 23791},\n",
      "                           'Index Scan': {'cost': 0.09000000000000008,\n",
      "                                          'rows': 3},\n",
      "                           'Nested Loop': {'cost': 185215.63999999998,\n",
      "                                           'rows': 23122},\n",
      "                           'Process Id': '8336',\n",
      "                           'Result': {'cost': 63199.87000000001, 'rows': 12698},\n",
      "                           'Seq Scan': {'cost': 165783.65000000002,\n",
      "                                        'rows': 5042411},\n",
      "                           'Session Id': '597429f9.2090',\n",
      "                           'Session line': '75',\n",
      "                           'SetOp': {'cost': 159047.06, 'rows': 25396},\n",
      "                           'Sort': {'cost': 57.79000000000451, 'rows': 23122},\n",
      "                           'Subquery Scan': {'cost': 96563.59000000001,\n",
      "                                             'rows': 35820},\n",
      "                           'Timestamp': '2017-07-23 12:48:44.610',\n",
      "                           'Unique': {'cost': 231.22000000000116,\n",
      "                                      'rows': 23122},\n",
      "                           'Username': 'sylver'},\n",
      " '8336_597429f9.2090_77': {'Aggregate': {'cost': 0.010000000009313226,\n",
      "                                         'rows': 1},\n",
      "                           'Append': {'cost': 157518.93000000002,\n",
      "                                      'rows': 30371},\n",
      "                           'Application Name': 'psql',\n",
      "                           'Duration': '3695.319',\n",
      "                           'Hash': {'cost': 0.0, 'rows': 903},\n",
      "                           'Hash Join': {'cost': 177388.22, 'rows': 20172},\n",
      "                           'Index Scan': {'cost': 0.09000000000000008,\n",
      "                                          'rows': 3},\n",
      "                           'Nested Loop': {'cost': 183994.14, 'rows': 19605},\n",
      "                           'Process Id': '8336',\n",
      "                           'Result': {'cost': 62664.53999999999, 'rows': 10766},\n",
      "                           'Seq Scan': {'cost': 165783.65000000002,\n",
      "                                        'rows': 5042249},\n",
      "                           'Session Id': '597429f9.2090',\n",
      "                           'Session line': '77',\n",
      "                           'SetOp': {'cost': 157746.71, 'rows': 21532},\n",
      "                           'Sort': {'cost': 49.000000000007276, 'rows': 19605},\n",
      "                           'Subquery Scan': {'cost': 95689.59000000001,\n",
      "                                             'rows': 30371},\n",
      "                           'Timestamp': '2017-07-23 12:48:48.383',\n",
      "                           'Unique': {'cost': 196.0500000000102, 'rows': 19605},\n",
      "                           'Username': 'sylver'},\n",
      " '8336_597429f9.2090_9': {'Aggregate': {'cost': 0.010000000009313226,\n",
      "                                        'rows': 1},\n",
      "                          'Append': {'cost': 158848.02, 'rows': 36124},\n",
      "                          'Application Name': 'psql',\n",
      "                          'Duration': '3835.081',\n",
      "                          'Hash': {'cost': 0.0, 'rows': 1074},\n",
      "                          'Hash Join': {'cost': 177426.41999999998,\n",
      "                                        'rows': 23992},\n",
      "                          'Index Scan': {'cost': 0.09000000000000008,\n",
      "                                         'rows': 3},\n",
      "                          'Nested Loop': {'cost': 185283.48, 'rows': 23318},\n",
      "                          'Process Id': '8336',\n",
      "                          'Result': {'cost': 63229.32000000001, 'rows': 12806},\n",
      "                          'Seq Scan': {'cost': 165783.65000000002,\n",
      "                                       'rows': 5042420},\n",
      "                          'Session Id': '597429f9.2090',\n",
      "                          'Session line': '9',\n",
      "                          'SetOp': {'cost': 159118.95, 'rows': 25612},\n",
      "                          'Sort': {'cost': 58.299999999991996, 'rows': 23318},\n",
      "                          'Subquery Scan': {'cost': 96612.11, 'rows': 36124},\n",
      "                          'Timestamp': '2017-07-23 12:46:38.857',\n",
      "                          'Unique': {'cost': 233.17999999999665, 'rows': 23318},\n",
      "                          'Username': 'sylver'},\n",
      " '8347_597429f9.209b_1': {'Aggregate': {'cost': 15.899999999999418,\n",
      "                                        'rows': 707},\n",
      "                          'Application Name': 'psql',\n",
      "                          'CTE Scan': {'cost': 11264.22, 'rows': 239},\n",
      "                          'Duration': '67871.639',\n",
      "                          'Hash': {'cost': 0.0, 'rows': 365},\n",
      "                          'Hash Join': {'cost': 4865.120000000001, 'rows': 720},\n",
      "                          'Index Scan': {'cost': 6.8, 'rows': 3},\n",
      "                          'Limit': {'cost': 0.020000000000436557, 'rows': 11},\n",
      "                          'Nested Loop': {'cost': 30978.870000000003,\n",
      "                                          'rows': 952},\n",
      "                          'Process Id': '8347',\n",
      "                          'Seq Scan': {'cost': 6635.780000000001,\n",
      "                                       'rows': 144432},\n",
      "                          'Session Id': '597429f9.209b',\n",
      "                          'Session line': '1',\n",
      "                          'Sort': {'cost': 1.800000000000182, 'rows': 717},\n",
      "                          'Timestamp': '2017-07-23 12:46:53.890',\n",
      "                          'Username': 'sylver'},\n",
      " '8348_597429f9.209c_1': {'Aggregate': {'cost': 0.00999999999476131, 'rows': 1},\n",
      "                          'Application Name': 'psql',\n",
      "                          'Duration': '48780.738',\n",
      "                          'Hash': {'cost': 0.0, 'rows': 512},\n",
      "                          'Hash Join': {'cost': 114815.93, 'rows': 16349},\n",
      "                          'Index Only Scan': {'cost': 1080.53, 'rows': 2},\n",
      "                          'Index Scan': {'cost': 10811.880000000001,\n",
      "                                         'rows': 10},\n",
      "                          'Limit': {'cost': 0.010000000009313226, 'rows': 1},\n",
      "                          'Nested Loop': {'cost': 218131.96000000002,\n",
      "                                          'rows': 3},\n",
      "                          'Process Id': '8348',\n",
      "                          'Seq Scan': {'cost': 53543.1, 'rows': 1442057},\n",
      "                          'Session Id': '597429f9.209c',\n",
      "                          'Session line': '1',\n",
      "                          'Sort': {'cost': 0.010000000009313226, 'rows': 1},\n",
      "                          'Timestamp': '2017-07-23 12:46:34.801',\n",
      "                          'Username': 'sylver'},\n",
      " '8348_597429f9.209c_11': {'Aggregate': {'cost': 0.00999999999476131,\n",
      "                                         'rows': 1},\n",
      "                           'Application Name': 'psql',\n",
      "                           'Duration': '2453.182',\n",
      "                           'Hash': {'cost': 0.0, 'rows': 59},\n",
      "                           'Hash Join': {'cost': 57237.83, 'rows': 1158},\n",
      "                           'Index Only Scan': {'cost': 1080.53, 'rows': 2},\n",
      "                           'Index Scan': {'cost': 10811.87, 'rows': 10},\n",
      "                           'Limit': {'cost': 0.0, 'rows': 1},\n",
      "                           'Materialize': {'cost': 10.68, 'rows': 5},\n",
      "                           'Nested Loop': {'cost': 268679.38, 'rows': 152},\n",
      "                           'Process Id': '8348',\n",
      "                           'Seq Scan': {'cost': 54331.83, 'rows': 1441609},\n",
      "                           'Session Id': '597429f9.209c',\n",
      "                           'Session line': '11',\n",
      "                           'Sort': {'cost': 0.0, 'rows': 1},\n",
      "                           'Timestamp': '2017-07-23 12:46:45.683',\n",
      "                           'Username': 'sylver'},\n",
      " '8348_597429f9.209c_13': {'Aggregate': {'cost': 0.010000000009313226,\n",
      "                                         'rows': 1},\n",
      "                           'Application Name': 'psql',\n",
      "                           'Duration': '1974.374',\n",
      "                           'Hash': {'cost': 0.0, 'rows': 62},\n",
      "                           'Hash Join': {'cost': 57238.409999999996,\n",
      "                                         'rows': 1217},\n",
      "                           'Index Only Scan': {'cost': 1080.53, 'rows': 2},\n",
      "                           'Index Scan': {'cost': 10811.87, 'rows': 10},\n",
      "                           'Limit': {'cost': 0.0, 'rows': 1},\n",
      "                           'Materialize': {'cost': 10.68, 'rows': 5},\n",
      "                           'Nested Loop': {'cost': 256812.46000000002,\n",
      "                                           'rows': 157},\n",
      "                           'Process Id': '8348',\n",
      "                           'Seq Scan': {'cost': 54331.83, 'rows': 1441612},\n",
      "                           'Session Id': '597429f9.209c',\n",
      "                           'Session line': '13',\n",
      "                           'Sort': {'cost': 0.0, 'rows': 1},\n",
      "                           'Timestamp': '2017-07-23 12:46:47.731',\n",
      "                           'Username': 'sylver'},\n",
      " '8348_597429f9.209c_15': {'Aggregate': {'cost': 0.00999999999476131,\n",
      "                                         'rows': 1},\n",
      "                           'Application Name': 'psql',\n",
      "                           'Duration': '2837.674',\n",
      "                           'Hash': {'cost': 0.0, 'rows': 62},\n",
      "                           'Hash Join': {'cost': 57238.409999999996,\n",
      "                                         'rows': 1217},\n",
      "                           'Index Only Scan': {'cost': 1080.53, 'rows': 2},\n",
      "                           'Index Scan': {'cost': 10811.87, 'rows': 10},\n",
      "                           'Limit': {'cost': 0.0, 'rows': 1},\n",
      "                           'Materialize': {'cost': 10.68, 'rows': 5},\n",
      "                           'Nested Loop': {'cost': 268706.21, 'rows': 159},\n",
      "                           'Process Id': '8348',\n",
      "                           'Seq Scan': {'cost': 54331.83, 'rows': 1441612},\n",
      "                           'Session Id': '597429f9.209c',\n",
      "                           'Session line': '15',\n",
      "                           'Sort': {'cost': 0.0, 'rows': 1},\n",
      "                           'Timestamp': '2017-07-23 12:46:50.644',\n",
      "                           'Username': 'sylver'},\n",
      " '8348_597429f9.209c_17': {'Aggregate': {'cost': 0.00999999999476131,\n",
      "                                         'rows': 1},\n",
      "                           'Application Name': 'psql',\n",
      "                           'Duration': '2065.680',\n",
      "                           'Hash': {'cost': 0.0, 'rows': 61},\n",
      "                           'Hash Join': {'cost': 57238.21, 'rows': 1197},\n",
      "                           'Index Only Scan': {'cost': 1080.53, 'rows': 2},\n",
      "                           'Index Scan': {'cost': 10811.87, 'rows': 10},\n",
      "                           'Limit': {'cost': 0.0, 'rows': 1},\n",
      "                           'Materialize': {'cost': 10.68, 'rows': 5},\n",
      "                           'Nested Loop': {'cost': 268697.48000000004,\n",
      "                                           'rows': 157},\n",
      "                           'Process Id': '8348',\n",
      "                           'Seq Scan': {'cost': 54331.83, 'rows': 1441611},\n",
      "                           'Session Id': '597429f9.209c',\n",
      "                           'Session line': '17',\n",
      "                           'Sort': {'cost': 0.0, 'rows': 1},\n",
      "                           'Timestamp': '2017-07-23 12:46:52.777',\n",
      "                           'Username': 'sylver'},\n",
      " '8348_597429f9.209c_19': {'Aggregate': {'cost': 0.00999999999476131,\n",
      "                                         'rows': 1},\n",
      "                           'Application Name': 'psql',\n",
      "                           'Duration': '1191.968',\n",
      "                           'Hash': {'cost': 0.0, 'rows': 792},\n",
      "                           'Hash Join': {'cost': 115016.65, 'rows': 25379},\n",
      "                           'Index Only Scan': {'cost': 1080.53, 'rows': 2},\n",
      "                           'Index Scan': {'cost': 10811.880000000001,\n",
      "                                          'rows': 10},\n",
      "                           'Limit': {'cost': 0.00999999999476131, 'rows': 1},\n",
      "                           'Nested Loop': {'cost': 199704.59000000003,\n",
      "                                           'rows': 4},\n",
      "                           'Process Id': '8348',\n",
      "                           'Seq Scan': {'cost': 53543.1, 'rows': 1442337},\n",
      "                           'Session Id': '597429f9.209c',\n",
      "                           'Session line': '19',\n",
      "                           'Sort': {'cost': 0.00999999999476131, 'rows': 1},\n",
      "                           'Timestamp': '2017-07-23 12:46:54.054',\n",
      "                           'Username': 'sylver'},\n",
      " '8348_597429f9.209c_21': {'Aggregate': {'cost': 0.010000000009313226,\n",
      "                                         'rows': 1},\n",
      "                           'Application Name': 'psql',\n",
      "                           'Duration': '1802.817',\n",
      "                           'Hash': {'cost': 0.0, 'rows': 727},\n",
      "                           'Hash Join': {'cost': 114970.04000000001,\n",
      "                                         'rows': 23282},\n",
      "                           'Index Only Scan': {'cost': 1080.53, 'rows': 2},\n",
      "                           'Index Scan': {'cost': 10811.880000000001,\n",
      "                                          'rows': 10},\n",
      "                           'Limit': {'cost': 0.00999999999476131, 'rows': 1},\n",
      "                           'Nested Loop': {'cost': 199391.39, 'rows': 4},\n",
      "                           'Process Id': '8348',\n",
      "                           'Seq Scan': {'cost': 53543.1, 'rows': 1442272},\n",
      "                           'Session Id': '597429f9.209c',\n",
      "                           'Session line': '21',\n",
      "                           'Sort': {'cost': 0.00999999999476131, 'rows': 1},\n",
      "                           'Timestamp': '2017-07-23 12:46:55.923',\n",
      "                           'Username': 'sylver'},\n",
      " '8348_597429f9.209c_23': {'Aggregate': {'cost': 0.010000000009313226,\n",
      "                                         'rows': 1},\n",
      "                           'Application Name': 'psql',\n",
      "                           'Duration': '568.833',\n",
      "                           'Hash': {'cost': 0.0, 'rows': 207},\n",
      "                           'Hash Join': {'cost': 57285.61, 'rows': 5937},\n",
      "                           'Index Only Scan': {'cost': 1080.53, 'rows': 2},\n",
      "                           'Index Scan': {'cost': 10811.880000000001,\n",
      "                                          'rows': 10},\n",
      "                           'Limit': {'cost': 0.00999999999476131, 'rows': 1},\n",
      "                           'Materialize': {'cost': 10.68, 'rows': 5},\n",
      "                           'Nested Loop': {'cost': 275708.78, 'rows': 741},\n",
      "                           'Process Id': '8348',\n",
      "                           'Seq Scan': {'cost': 53543.1, 'rows': 1441757},\n",
      "                           'Session Id': '597429f9.209c',\n",
      "                           'Session line': '23',\n",
      "                           'Sort': {'cost': 0.00999999999476131, 'rows': 1},\n",
      "                           'Timestamp': '2017-07-23 12:46:56.571',\n",
      "                           'Username': 'sylver'},\n",
      " '8348_597429f9.209c_25': {'Aggregate': {'cost': 0.010000000009313226,\n",
      "                                         'rows': 1},\n",
      "                           'Application Name': 'psql',\n",
      "                           'Duration': '1432.590',\n",
      "                           'Hash': {'cost': 0.0, 'rows': 727},\n",
      "                           'Hash Join': {'cost': 114970.04000000001,\n",
      "                                         'rows': 23282},\n",
      "                           'Index Only Scan': {'cost': 1080.53, 'rows': 2},\n",
      "                           'Index Scan': {'cost': 10811.880000000001,\n",
      "                                          'rows': 10},\n",
      "                           'Limit': {'cost': 0.00999999999476131, 'rows': 1},\n",
      "                           'Nested Loop': {'cost': 199391.39, 'rows': 4},\n",
      "                           'Process Id': '8348',\n",
      "                           'Seq Scan': {'cost': 53543.1, 'rows': 1442272},\n",
      "                           'Session Id': '597429f9.209c',\n",
      "                           'Session line': '25',\n",
      "                           'Sort': {'cost': 0.00999999999476131, 'rows': 1},\n",
      "                           'Timestamp': '2017-07-23 12:46:58.071',\n",
      "                           'Username': 'sylver'},\n",
      " '8348_597429f9.209c_27': {'Aggregate': {'cost': 0.00999999999476131,\n",
      "                                         'rows': 1},\n",
      "                           'Application Name': 'psql',\n",
      "                           'Duration': '3298.613',\n",
      "                           'Hash': {'cost': 0.0, 'rows': 62},\n",
      "                           'Hash Join': {'cost': 57238.409999999996,\n",
      "                                         'rows': 1217},\n",
      "                           'Index Only Scan': {'cost': 1080.53, 'rows': 2},\n",
      "                           'Index Scan': {'cost': 10811.87, 'rows': 10},\n",
      "                           'Limit': {'cost': 0.0, 'rows': 1},\n",
      "                           'Materialize': {'cost': 10.68, 'rows': 5},\n",
      "                           'Nested Loop': {'cost': 268706.21, 'rows': 159},\n",
      "                           'Process Id': '8348',\n",
      "                           'Seq Scan': {'cost': 54331.83, 'rows': 1441612},\n",
      "                           'Session Id': '597429f9.209c',\n",
      "                           'Session line': '27',\n",
      "                           'Sort': {'cost': 0.0, 'rows': 1},\n",
      "                           'Timestamp': '2017-07-23 12:47:01.437',\n",
      "                           'Username': 'sylver'},\n",
      " '8348_597429f9.209c_29': {'Aggregate': {'cost': 0.010000000009313226,\n",
      "                                         'rows': 1},\n",
      "                           'Application Name': 'psql',\n",
      "                           'Duration': '2691.221',\n",
      "                           'Hash': {'cost': 0.0, 'rows': 62},\n",
      "                           'Hash Join': {'cost': 57238.409999999996,\n",
      "                                         'rows': 1217},\n",
      "                           'Index Only Scan': {'cost': 1080.53, 'rows': 2},\n",
      "                           'Index Scan': {'cost': 10811.87, 'rows': 10},\n",
      "                           'Limit': {'cost': 0.0, 'rows': 1},\n",
      "                           'Materialize': {'cost': 10.68, 'rows': 5},\n",
      "                           'Nested Loop': {'cost': 270239.91, 'rows': 160},\n",
      "                           'Process Id': '8348',\n",
      "                           'Seq Scan': {'cost': 54331.83, 'rows': 1441612},\n",
      "                           'Session Id': '597429f9.209c',\n",
      "                           'Session line': '29',\n",
      "                           'Sort': {'cost': 0.0, 'rows': 1},\n",
      "                           'Timestamp': '2017-07-23 12:47:04.671',\n",
      "                           'Username': 'sylver'},\n",
      " '8348_597429f9.209c_3': {'Aggregate': {'cost': 0.00999999999476131, 'rows': 1},\n",
      "                          'Application Name': 'psql',\n",
      "                          'Duration': '3071.523',\n",
      "                          'Hash': {'cost': 0.0, 'rows': 59},\n",
      "                          'Hash Join': {'cost': 57237.83, 'rows': 1158},\n",
      "                          'Index Only Scan': {'cost': 1080.53, 'rows': 2},\n",
      "                          'Index Scan': {'cost': 10811.87, 'rows': 10},\n",
      "                          'Limit': {'cost': 0.0, 'rows': 1},\n",
      "                          'Materialize': {'cost': 10.68, 'rows': 5},\n",
      "                          'Nested Loop': {'cost': 256785.63999999998,\n",
      "                                          'rows': 150},\n",
      "                          'Process Id': '8348',\n",
      "                          'Seq Scan': {'cost': 54331.83, 'rows': 1441609},\n",
      "                          'Session Id': '597429f9.209c',\n",
      "                          'Session line': '3',\n",
      "                          'Sort': {'cost': 0.0, 'rows': 1},\n",
      "                          'Timestamp': '2017-07-23 12:46:37.971',\n",
      "                          'Username': 'sylver'},\n",
      " '8348_597429f9.209c_31': {'Aggregate': {'cost': 0.010000000009313226,\n",
      "                                         'rows': 1},\n",
      "                           'Application Name': 'psql',\n",
      "                           'Duration': '3509.005',\n",
      "                           'Hash': {'cost': 0.0, 'rows': 59},\n",
      "                           'Hash Join': {'cost': 57237.83, 'rows': 1158},\n",
      "                           'Index Only Scan': {'cost': 1080.53, 'rows': 2},\n",
      "                           'Index Scan': {'cost': 10811.87, 'rows': 10},\n",
      "                           'Limit': {'cost': 0.00999999999476131, 'rows': 1},\n",
      "                           'Materialize': {'cost': 10.68, 'rows': 5},\n",
      "                           'Nested Loop': {'cost': 271746.79000000004,\n",
      "                                           'rows': 154},\n",
      "                           'Process Id': '8348',\n",
      "                           'Seq Scan': {'cost': 54331.83, 'rows': 1441609},\n",
      "                           'Session Id': '597429f9.209c',\n",
      "                           'Session line': '31',\n",
      "                           'Sort': {'cost': 0.00999999999476131, 'rows': 1},\n",
      "                           'Timestamp': '2017-07-23 12:47:08.251',\n",
      "                           'Username': 'sylver'},\n",
      " '8348_597429f9.209c_33': {'Aggregate': {'cost': 0.00999999999476131,\n",
      "                                         'rows': 1},\n",
      "                           'Application Name': 'psql',\n",
      "                           'Duration': '2538.803',\n",
      "                           'Hash': {'cost': 0.0, 'rows': 59},\n",
      "                           'Hash Join': {'cost': 57237.83, 'rows': 1158},\n",
      "                           'Index Only Scan': {'cost': 1080.53, 'rows': 2},\n",
      "                           'Index Scan': {'cost': 10811.87, 'rows': 10},\n",
      "                           'Limit': {'cost': 0.0, 'rows': 1},\n",
      "                           'Materialize': {'cost': 10.68, 'rows': 5},\n",
      "                           'Nested Loop': {'cost': 256785.63999999998,\n",
      "                                           'rows': 150},\n",
      "                           'Process Id': '8348',\n",
      "                           'Seq Scan': {'cost': 54331.83, 'rows': 1441609},\n",
      "                           'Session Id': '597429f9.209c',\n",
      "                           'Session line': '33',\n",
      "                           'Sort': {'cost': 0.0, 'rows': 1},\n",
      "                           'Timestamp': '2017-07-23 12:47:10.842',\n",
      "                           'Username': 'sylver'},\n",
      " '8348_597429f9.209c_35': {'Aggregate': {'cost': 0.00999999999476131,\n",
      "                                         'rows': 1},\n",
      "                           'Application Name': 'psql',\n",
      "                           'Duration': '8184.983',\n",
      "                           'Hash': {'cost': 0.0, 'rows': 62},\n",
      "                           'Hash Join': {'cost': 57238.409999999996,\n",
      "                                         'rows': 1217},\n",
      "                           'Index Only Scan': {'cost': 1080.53, 'rows': 2},\n",
      "                           'Index Scan': {'cost': 10811.87, 'rows': 10},\n",
      "                           'Limit': {'cost': 0.0, 'rows': 1},\n",
      "                           'Materialize': {'cost': 10.68, 'rows': 5},\n",
      "                           'Nested Loop': {'cost': 300162.22, 'rows': 168},\n",
      "                           'Process Id': '8348',\n",
      "                           'Seq Scan': {'cost': 54331.83, 'rows': 1441612},\n",
      "                           'Session Id': '597429f9.209c',\n",
      "                           'Session line': '35',\n",
      "                           'Sort': {'cost': 0.0, 'rows': 1},\n",
      "                           'Timestamp': '2017-07-23 12:47:19.080',\n",
      "                           'Username': 'sylver'},\n",
      " '8348_597429f9.209c_37': {'Aggregate': {'cost': 0.010000000009313226,\n",
      "                                         'rows': 1},\n",
      "                           'Application Name': 'psql',\n",
      "                           'Duration': '2008.496',\n",
      "                           'Hash': {'cost': 0.0, 'rows': 59},\n",
      "                           'Hash Join': {'cost': 57237.83, 'rows': 1158},\n",
      "                           'Index Only Scan': {'cost': 1080.53, 'rows': 2},\n",
      "                           'Index Scan': {'cost': 10811.87, 'rows': 10},\n",
      "                           'Limit': {'cost': 0.0, 'rows': 1},\n",
      "                           'Materialize': {'cost': 10.68, 'rows': 5},\n",
      "                           'Nested Loop': {'cost': 255251.93999999997,\n",
      "                                           'rows': 149},\n",
      "                           'Process Id': '8348',\n",
      "                           'Seq Scan': {'cost': 54331.83, 'rows': 1441609},\n",
      "                           'Session Id': '597429f9.209c',\n",
      "                           'Session line': '37',\n",
      "                           'Sort': {'cost': 0.0, 'rows': 1},\n",
      "                           'Timestamp': '2017-07-23 12:47:21.141',\n",
      "                           'Username': 'sylver'},\n",
      " '8348_597429f9.209c_39': {'Aggregate': {'cost': 0.00999999999476131,\n",
      "                                         'rows': 1},\n",
      "                           'Application Name': 'psql',\n",
      "                           'Duration': '1979.131',\n",
      "                           'Hash': {'cost': 0.0, 'rows': 61},\n",
      "                           'Hash Join': {'cost': 57238.21, 'rows': 1197},\n",
      "                           'Index Only Scan': {'cost': 1080.53, 'rows': 2},\n",
      "                           'Index Scan': {'cost': 10811.87, 'rows': 10},\n",
      "                           'Limit': {'cost': 0.0, 'rows': 1},\n",
      "                           'Materialize': {'cost': 10.68, 'rows': 5},\n",
      "                           'Nested Loop': {'cost': 255270.03, 'rows': 154},\n",
      "                           'Process Id': '8348',\n",
      "                           'Seq Scan': {'cost': 54331.83, 'rows': 1441611},\n",
      "                           'Session Id': '597429f9.209c',\n",
      "                           'Session line': '39',\n",
      "                           'Sort': {'cost': 0.0, 'rows': 1},\n",
      "                           'Timestamp': '2017-07-23 12:47:23.240',\n",
      "                           'Username': 'sylver'},\n",
      " '8348_597429f9.209c_41': {'Aggregate': {'cost': 0.00999999999476131,\n",
      "                                         'rows': 1},\n",
      "                           'Application Name': 'psql',\n",
      "                           'Duration': '2460.700',\n",
      "                           'Hash': {'cost': 0.0, 'rows': 60},\n",
      "                           'Hash Join': {'cost': 57238.03, 'rows': 1178},\n",
      "                           'Index Only Scan': {'cost': 1080.53, 'rows': 2},\n",
      "                           'Index Scan': {'cost': 10811.87, 'rows': 10},\n",
      "                           'Limit': {'cost': 0.0, 'rows': 1},\n",
      "                           'Materialize': {'cost': 10.68, 'rows': 5},\n",
      "                           'Nested Loop': {'cost': 268688.13, 'rows': 154},\n",
      "                           'Process Id': '8348',\n",
      "                           'Seq Scan': {'cost': 54331.83, 'rows': 1441610},\n",
      "                           'Session Id': '597429f9.209c',\n",
      "                           'Session line': '41',\n",
      "                           'Sort': {'cost': 0.0, 'rows': 1},\n",
      "                           'Timestamp': '2017-07-23 12:47:25.753',\n",
      "                           'Username': 'sylver'},\n",
      " '8348_597429f9.209c_43': {'Aggregate': {'cost': 0.00999999999476131,\n",
      "                                         'rows': 1},\n",
      "                           'Application Name': 'psql',\n",
      "                           'Duration': '1495.337',\n",
      "                           'Hash': {'cost': 0.0, 'rows': 970},\n",
      "                           'Hash Join': {'cost': 115144.23999999999,\n",
      "                                         'rows': 31118},\n",
      "                           'Index Only Scan': {'cost': 1080.53, 'rows': 2},\n",
      "                           'Index Scan': {'cost': 10811.880000000001,\n",
      "                                          'rows': 10},\n",
      "                           'Limit': {'cost': 0.010000000009313226, 'rows': 1},\n",
      "                           'Nested Loop': {'cost': 202094.52000000002,\n",
      "                                           'rows': 5},\n",
      "                           'Process Id': '8348',\n",
      "                           'Seq Scan': {'cost': 53543.1, 'rows': 1442515},\n",
      "                           'Session Id': '597429f9.209c',\n",
      "                           'Session line': '43',\n",
      "                           'Sort': {'cost': 0.010000000009313226, 'rows': 1},\n",
      "                           'Timestamp': '2017-07-23 12:47:27.310',\n",
      "                           'Username': 'sylver'},\n",
      " '8348_597429f9.209c_45': {'Aggregate': {'cost': 0.00999999999476131,\n",
      "                                         'rows': 1},\n",
      "                           'Application Name': 'psql',\n",
      "                           'Duration': '1550.014',\n",
      "                           'Hash': {'cost': 0.0, 'rows': 970},\n",
      "                           'Hash Join': {'cost': 115144.23999999999,\n",
      "                                         'rows': 31118},\n",
      "                           "
     ]
    }
   ],
   "source": [
    "pprint(data)"
   ]
  }
 ],
 "metadata": {
  "kernelspec": {
   "display_name": "Python 3",
   "name": "python3"
  },
  "name": "2017-07-20.ipynb"
 },
 "nbformat": 4,
 "nbformat_minor": 2
}
